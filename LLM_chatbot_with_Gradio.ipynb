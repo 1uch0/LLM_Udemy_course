{
  "nbformat": 4,
  "nbformat_minor": 0,
  "metadata": {
    "colab": {
      "provenance": [],
      "authorship_tag": "ABX9TyNu2PQvH1B3gzH5bnQ6XZJx",
      "include_colab_link": true
    },
    "kernelspec": {
      "name": "python3",
      "display_name": "Python 3"
    },
    "language_info": {
      "name": "python"
    }
  },
  "cells": [
    {
      "cell_type": "markdown",
      "metadata": {
        "id": "view-in-github",
        "colab_type": "text"
      },
      "source": [
        "<a href=\"https://colab.research.google.com/github/1uch0/LLM_Udemy_course/blob/main/LLM_chatbot_with_Gradio.ipynb\" target=\"_parent\"><img src=\"https://colab.research.google.com/assets/colab-badge.svg\" alt=\"Open In Colab\"/></a>"
      ]
    },
    {
      "cell_type": "code",
      "source": [
        "# imports\n",
        "\n",
        "import os\n",
        "import requests\n",
        "from bs4 import BeautifulSoup\n",
        "from typing import List\n",
        "#from dotenv import load_dotenv\n",
        "from openai import OpenAI\n",
        "import google.generativeai as fenai\n",
        "#import anthropic\n",
        "from google.colab import userdata"
      ],
      "metadata": {
        "id": "qWQkh3KXzn0q"
      },
      "execution_count": 1,
      "outputs": []
    },
    {
      "cell_type": "code",
      "source": [
        "#!pip install gradio\n"
      ],
      "metadata": {
        "id": "Ige6FvR5z1xM"
      },
      "execution_count": 4,
      "outputs": []
    },
    {
      "cell_type": "code",
      "source": [
        "import gradio as gr # oh yeah!"
      ],
      "metadata": {
        "id": "mj_Zf6v9znyB"
      },
      "execution_count": 5,
      "outputs": []
    },
    {
      "cell_type": "code",
      "source": [
        "# OpenAI API Key (Replace with your own key)\n",
        "\n",
        "api_key = userdata.get('Open_AI_API') ##Open_AI_API It is the API key from OPEN_AI saved in your collab\n",
        "openai = OpenAI(api_key=api_key)\n",
        "openai_api_key = api_key"
      ],
      "metadata": {
        "id": "-n74HR0Iznp2"
      },
      "execution_count": 6,
      "outputs": []
    },
    {
      "cell_type": "code",
      "source": [],
      "metadata": {
        "id": "4cZDwTPoznep"
      },
      "execution_count": 6,
      "outputs": []
    },
    {
      "cell_type": "code",
      "execution_count": 7,
      "metadata": {
        "colab": {
          "base_uri": "https://localhost:8080/",
          "height": 626
        },
        "id": "d7emMu1jzcYY",
        "outputId": "b708b842-10d2-4113-be81-a3a30dcaf477"
      },
      "outputs": [
        {
          "output_type": "stream",
          "name": "stdout",
          "text": [
            "Running Gradio in a Colab notebook requires sharing enabled. Automatically setting `share=True` (you can turn this off by setting `share=False` in `launch()` explicitly).\n",
            "\n",
            "Colab notebook detected. To show errors in colab notebook, set debug=True in launch()\n",
            "* Running on public URL: https://64a0552f420b3d9ad5.gradio.live\n",
            "\n",
            "This share link expires in 72 hours. For free permanent hosting and GPU upgrades, run `gradio deploy` from the terminal in the working directory to deploy to Hugging Face Spaces (https://huggingface.co/spaces)\n"
          ]
        },
        {
          "output_type": "display_data",
          "data": {
            "text/plain": [
              "<IPython.core.display.HTML object>"
            ],
            "text/html": [
              "<div><iframe src=\"https://64a0552f420b3d9ad5.gradio.live\" width=\"100%\" height=\"500\" allow=\"autoplay; camera; microphone; clipboard-read; clipboard-write;\" frameborder=\"0\" allowfullscreen></iframe></div>"
            ]
          },
          "metadata": {}
        },
        {
          "output_type": "execute_result",
          "data": {
            "text/plain": []
          },
          "metadata": {},
          "execution_count": 7
        }
      ],
      "source": [
        "# Store conversation history\n",
        "conversation_history = [\n",
        "    {\"role\": \"system\", \"content\": \"You are a helpful assistant.\"}  # Define system behavior\n",
        "]\n",
        "\n",
        "def stream_gpt(prompt):\n",
        "    global conversation_history  # Maintain conversation history\n",
        "\n",
        "    # Append user message to history\n",
        "    conversation_history.append({\"role\": \"user\", \"content\": prompt})\n",
        "\n",
        "    # Stream response\n",
        "    stream = openai.chat.completions.create(\n",
        "        model='gpt-4o-mini',\n",
        "        messages=conversation_history,\n",
        "        stream=True\n",
        "    )\n",
        "\n",
        "    result = \"\"\n",
        "    for chunk in stream:\n",
        "        result += chunk.choices[0].delta.content or \"\"\n",
        "        yield result  # Stream cumulative results\n",
        "\n",
        "    # Append assistant's response to history\n",
        "    conversation_history.append({\"role\": \"assistant\", \"content\": result})\n",
        "\n",
        "# Gradio interface\n",
        "view = gr.Interface(\n",
        "    fn=stream_gpt,\n",
        "    inputs=[gr.Textbox(label=\"Your message:\")],\n",
        "    outputs=[gr.Markdown(label=\"Response:\")],\n",
        "    flagging_mode=\"never\"\n",
        ")\n",
        "\n",
        "view.launch()"
      ]
    },
    {
      "cell_type": "code",
      "source": [],
      "metadata": {
        "id": "FzufGURqzmjX"
      },
      "execution_count": null,
      "outputs": []
    }
  ]
}