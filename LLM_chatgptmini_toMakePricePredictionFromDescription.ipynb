{
  "nbformat": 4,
  "nbformat_minor": 0,
  "metadata": {
    "colab": {
      "provenance": [],
      "mount_file_id": "1IgMaD3nagPeEnSPT4HA2pdbO9ktmvLTK",
      "authorship_tag": "ABX9TyMFARYDUhRwC8cA/JJ0xkdr",
      "include_colab_link": true
    },
    "kernelspec": {
      "name": "python3",
      "display_name": "Python 3"
    },
    "language_info": {
      "name": "python"
    },
    "widgets": {
      "application/vnd.jupyter.widget-state+json": {
        "596e17cd336e47b8b787cb7cda853d47": {
          "model_module": "@jupyter-widgets/controls",
          "model_name": "VBoxModel",
          "model_module_version": "1.5.0",
          "state": {
            "_dom_classes": [],
            "_model_module": "@jupyter-widgets/controls",
            "_model_module_version": "1.5.0",
            "_model_name": "VBoxModel",
            "_view_count": null,
            "_view_module": "@jupyter-widgets/controls",
            "_view_module_version": "1.5.0",
            "_view_name": "VBoxView",
            "box_style": "",
            "children": [],
            "layout": "IPY_MODEL_bd075b18f2a4464380148d928bef8846"
          }
        },
        "8e51e3d244ae4cdebccc7a0125dae4d3": {
          "model_module": "@jupyter-widgets/controls",
          "model_name": "HTMLModel",
          "model_module_version": "1.5.0",
          "state": {
            "_dom_classes": [],
            "_model_module": "@jupyter-widgets/controls",
            "_model_module_version": "1.5.0",
            "_model_name": "HTMLModel",
            "_view_count": null,
            "_view_module": "@jupyter-widgets/controls",
            "_view_module_version": "1.5.0",
            "_view_name": "HTMLView",
            "description": "",
            "description_tooltip": null,
            "layout": "IPY_MODEL_967b5d677c2b424786d372b05c72dc2f",
            "placeholder": "​",
            "style": "IPY_MODEL_46ba48d93f74446e966190694a7503f3",
            "value": "<center> <img\nsrc=https://huggingface.co/front/assets/huggingface_logo-noborder.svg\nalt='Hugging Face'> <br> Copy a token from <a\nhref=\"https://huggingface.co/settings/tokens\" target=\"_blank\">your Hugging Face\ntokens page</a> and paste it below. <br> Immediately click login after copying\nyour token or it might be stored in plain text in this notebook file. </center>"
          }
        },
        "c462259ed21045b5812278b6a20ee42a": {
          "model_module": "@jupyter-widgets/controls",
          "model_name": "PasswordModel",
          "model_module_version": "1.5.0",
          "state": {
            "_dom_classes": [],
            "_model_module": "@jupyter-widgets/controls",
            "_model_module_version": "1.5.0",
            "_model_name": "PasswordModel",
            "_view_count": null,
            "_view_module": "@jupyter-widgets/controls",
            "_view_module_version": "1.5.0",
            "_view_name": "PasswordView",
            "continuous_update": true,
            "description": "Token:",
            "description_tooltip": null,
            "disabled": false,
            "layout": "IPY_MODEL_0d33680eee2c455bbc938d3ee3a959ba",
            "placeholder": "​",
            "style": "IPY_MODEL_1f725b1c3e664904a21723512b9abf19",
            "value": ""
          }
        },
        "360ed30597ed4877bea12c6209d70eca": {
          "model_module": "@jupyter-widgets/controls",
          "model_name": "CheckboxModel",
          "model_module_version": "1.5.0",
          "state": {
            "_dom_classes": [],
            "_model_module": "@jupyter-widgets/controls",
            "_model_module_version": "1.5.0",
            "_model_name": "CheckboxModel",
            "_view_count": null,
            "_view_module": "@jupyter-widgets/controls",
            "_view_module_version": "1.5.0",
            "_view_name": "CheckboxView",
            "description": "Add token as git credential?",
            "description_tooltip": null,
            "disabled": false,
            "indent": true,
            "layout": "IPY_MODEL_6ad3f8b150a74df68913f9274099e4e3",
            "style": "IPY_MODEL_b3234e04c20b4cca9137eaa4e0b9dd03",
            "value": true
          }
        },
        "1c57a1161f4c4fb8a1c4dadd229e9651": {
          "model_module": "@jupyter-widgets/controls",
          "model_name": "ButtonModel",
          "model_module_version": "1.5.0",
          "state": {
            "_dom_classes": [],
            "_model_module": "@jupyter-widgets/controls",
            "_model_module_version": "1.5.0",
            "_model_name": "ButtonModel",
            "_view_count": null,
            "_view_module": "@jupyter-widgets/controls",
            "_view_module_version": "1.5.0",
            "_view_name": "ButtonView",
            "button_style": "",
            "description": "Login",
            "disabled": false,
            "icon": "",
            "layout": "IPY_MODEL_a8f6683584674428a12eb207f2df82f6",
            "style": "IPY_MODEL_1ed78ad7811149179be808c38551f695",
            "tooltip": ""
          }
        },
        "bd5c1f2b643c43c99effece712300eaf": {
          "model_module": "@jupyter-widgets/controls",
          "model_name": "HTMLModel",
          "model_module_version": "1.5.0",
          "state": {
            "_dom_classes": [],
            "_model_module": "@jupyter-widgets/controls",
            "_model_module_version": "1.5.0",
            "_model_name": "HTMLModel",
            "_view_count": null,
            "_view_module": "@jupyter-widgets/controls",
            "_view_module_version": "1.5.0",
            "_view_name": "HTMLView",
            "description": "",
            "description_tooltip": null,
            "layout": "IPY_MODEL_433ad81335964b769d5eab2067dbd873",
            "placeholder": "​",
            "style": "IPY_MODEL_51a5e8355a074f80b188318a309fafd4",
            "value": "\n<b>Pro Tip:</b> If you don't already have one, you can create a dedicated\n'notebooks' token with 'write' access, that you can then easily reuse for all\nnotebooks. </center>"
          }
        },
        "bd075b18f2a4464380148d928bef8846": {
          "model_module": "@jupyter-widgets/base",
          "model_name": "LayoutModel",
          "model_module_version": "1.2.0",
          "state": {
            "_model_module": "@jupyter-widgets/base",
            "_model_module_version": "1.2.0",
            "_model_name": "LayoutModel",
            "_view_count": null,
            "_view_module": "@jupyter-widgets/base",
            "_view_module_version": "1.2.0",
            "_view_name": "LayoutView",
            "align_content": null,
            "align_items": "center",
            "align_self": null,
            "border": null,
            "bottom": null,
            "display": "flex",
            "flex": null,
            "flex_flow": "column",
            "grid_area": null,
            "grid_auto_columns": null,
            "grid_auto_flow": null,
            "grid_auto_rows": null,
            "grid_column": null,
            "grid_gap": null,
            "grid_row": null,
            "grid_template_areas": null,
            "grid_template_columns": null,
            "grid_template_rows": null,
            "height": null,
            "justify_content": null,
            "justify_items": null,
            "left": null,
            "margin": null,
            "max_height": null,
            "max_width": null,
            "min_height": null,
            "min_width": null,
            "object_fit": null,
            "object_position": null,
            "order": null,
            "overflow": null,
            "overflow_x": null,
            "overflow_y": null,
            "padding": null,
            "right": null,
            "top": null,
            "visibility": null,
            "width": "50%"
          }
        },
        "967b5d677c2b424786d372b05c72dc2f": {
          "model_module": "@jupyter-widgets/base",
          "model_name": "LayoutModel",
          "model_module_version": "1.2.0",
          "state": {
            "_model_module": "@jupyter-widgets/base",
            "_model_module_version": "1.2.0",
            "_model_name": "LayoutModel",
            "_view_count": null,
            "_view_module": "@jupyter-widgets/base",
            "_view_module_version": "1.2.0",
            "_view_name": "LayoutView",
            "align_content": null,
            "align_items": null,
            "align_self": null,
            "border": null,
            "bottom": null,
            "display": null,
            "flex": null,
            "flex_flow": null,
            "grid_area": null,
            "grid_auto_columns": null,
            "grid_auto_flow": null,
            "grid_auto_rows": null,
            "grid_column": null,
            "grid_gap": null,
            "grid_row": null,
            "grid_template_areas": null,
            "grid_template_columns": null,
            "grid_template_rows": null,
            "height": null,
            "justify_content": null,
            "justify_items": null,
            "left": null,
            "margin": null,
            "max_height": null,
            "max_width": null,
            "min_height": null,
            "min_width": null,
            "object_fit": null,
            "object_position": null,
            "order": null,
            "overflow": null,
            "overflow_x": null,
            "overflow_y": null,
            "padding": null,
            "right": null,
            "top": null,
            "visibility": null,
            "width": null
          }
        },
        "46ba48d93f74446e966190694a7503f3": {
          "model_module": "@jupyter-widgets/controls",
          "model_name": "DescriptionStyleModel",
          "model_module_version": "1.5.0",
          "state": {
            "_model_module": "@jupyter-widgets/controls",
            "_model_module_version": "1.5.0",
            "_model_name": "DescriptionStyleModel",
            "_view_count": null,
            "_view_module": "@jupyter-widgets/base",
            "_view_module_version": "1.2.0",
            "_view_name": "StyleView",
            "description_width": ""
          }
        },
        "0d33680eee2c455bbc938d3ee3a959ba": {
          "model_module": "@jupyter-widgets/base",
          "model_name": "LayoutModel",
          "model_module_version": "1.2.0",
          "state": {
            "_model_module": "@jupyter-widgets/base",
            "_model_module_version": "1.2.0",
            "_model_name": "LayoutModel",
            "_view_count": null,
            "_view_module": "@jupyter-widgets/base",
            "_view_module_version": "1.2.0",
            "_view_name": "LayoutView",
            "align_content": null,
            "align_items": null,
            "align_self": null,
            "border": null,
            "bottom": null,
            "display": null,
            "flex": null,
            "flex_flow": null,
            "grid_area": null,
            "grid_auto_columns": null,
            "grid_auto_flow": null,
            "grid_auto_rows": null,
            "grid_column": null,
            "grid_gap": null,
            "grid_row": null,
            "grid_template_areas": null,
            "grid_template_columns": null,
            "grid_template_rows": null,
            "height": null,
            "justify_content": null,
            "justify_items": null,
            "left": null,
            "margin": null,
            "max_height": null,
            "max_width": null,
            "min_height": null,
            "min_width": null,
            "object_fit": null,
            "object_position": null,
            "order": null,
            "overflow": null,
            "overflow_x": null,
            "overflow_y": null,
            "padding": null,
            "right": null,
            "top": null,
            "visibility": null,
            "width": null
          }
        },
        "1f725b1c3e664904a21723512b9abf19": {
          "model_module": "@jupyter-widgets/controls",
          "model_name": "DescriptionStyleModel",
          "model_module_version": "1.5.0",
          "state": {
            "_model_module": "@jupyter-widgets/controls",
            "_model_module_version": "1.5.0",
            "_model_name": "DescriptionStyleModel",
            "_view_count": null,
            "_view_module": "@jupyter-widgets/base",
            "_view_module_version": "1.2.0",
            "_view_name": "StyleView",
            "description_width": ""
          }
        },
        "6ad3f8b150a74df68913f9274099e4e3": {
          "model_module": "@jupyter-widgets/base",
          "model_name": "LayoutModel",
          "model_module_version": "1.2.0",
          "state": {
            "_model_module": "@jupyter-widgets/base",
            "_model_module_version": "1.2.0",
            "_model_name": "LayoutModel",
            "_view_count": null,
            "_view_module": "@jupyter-widgets/base",
            "_view_module_version": "1.2.0",
            "_view_name": "LayoutView",
            "align_content": null,
            "align_items": null,
            "align_self": null,
            "border": null,
            "bottom": null,
            "display": null,
            "flex": null,
            "flex_flow": null,
            "grid_area": null,
            "grid_auto_columns": null,
            "grid_auto_flow": null,
            "grid_auto_rows": null,
            "grid_column": null,
            "grid_gap": null,
            "grid_row": null,
            "grid_template_areas": null,
            "grid_template_columns": null,
            "grid_template_rows": null,
            "height": null,
            "justify_content": null,
            "justify_items": null,
            "left": null,
            "margin": null,
            "max_height": null,
            "max_width": null,
            "min_height": null,
            "min_width": null,
            "object_fit": null,
            "object_position": null,
            "order": null,
            "overflow": null,
            "overflow_x": null,
            "overflow_y": null,
            "padding": null,
            "right": null,
            "top": null,
            "visibility": null,
            "width": null
          }
        },
        "b3234e04c20b4cca9137eaa4e0b9dd03": {
          "model_module": "@jupyter-widgets/controls",
          "model_name": "DescriptionStyleModel",
          "model_module_version": "1.5.0",
          "state": {
            "_model_module": "@jupyter-widgets/controls",
            "_model_module_version": "1.5.0",
            "_model_name": "DescriptionStyleModel",
            "_view_count": null,
            "_view_module": "@jupyter-widgets/base",
            "_view_module_version": "1.2.0",
            "_view_name": "StyleView",
            "description_width": ""
          }
        },
        "a8f6683584674428a12eb207f2df82f6": {
          "model_module": "@jupyter-widgets/base",
          "model_name": "LayoutModel",
          "model_module_version": "1.2.0",
          "state": {
            "_model_module": "@jupyter-widgets/base",
            "_model_module_version": "1.2.0",
            "_model_name": "LayoutModel",
            "_view_count": null,
            "_view_module": "@jupyter-widgets/base",
            "_view_module_version": "1.2.0",
            "_view_name": "LayoutView",
            "align_content": null,
            "align_items": null,
            "align_self": null,
            "border": null,
            "bottom": null,
            "display": null,
            "flex": null,
            "flex_flow": null,
            "grid_area": null,
            "grid_auto_columns": null,
            "grid_auto_flow": null,
            "grid_auto_rows": null,
            "grid_column": null,
            "grid_gap": null,
            "grid_row": null,
            "grid_template_areas": null,
            "grid_template_columns": null,
            "grid_template_rows": null,
            "height": null,
            "justify_content": null,
            "justify_items": null,
            "left": null,
            "margin": null,
            "max_height": null,
            "max_width": null,
            "min_height": null,
            "min_width": null,
            "object_fit": null,
            "object_position": null,
            "order": null,
            "overflow": null,
            "overflow_x": null,
            "overflow_y": null,
            "padding": null,
            "right": null,
            "top": null,
            "visibility": null,
            "width": null
          }
        },
        "1ed78ad7811149179be808c38551f695": {
          "model_module": "@jupyter-widgets/controls",
          "model_name": "ButtonStyleModel",
          "model_module_version": "1.5.0",
          "state": {
            "_model_module": "@jupyter-widgets/controls",
            "_model_module_version": "1.5.0",
            "_model_name": "ButtonStyleModel",
            "_view_count": null,
            "_view_module": "@jupyter-widgets/base",
            "_view_module_version": "1.2.0",
            "_view_name": "StyleView",
            "button_color": null,
            "font_weight": ""
          }
        },
        "433ad81335964b769d5eab2067dbd873": {
          "model_module": "@jupyter-widgets/base",
          "model_name": "LayoutModel",
          "model_module_version": "1.2.0",
          "state": {
            "_model_module": "@jupyter-widgets/base",
            "_model_module_version": "1.2.0",
            "_model_name": "LayoutModel",
            "_view_count": null,
            "_view_module": "@jupyter-widgets/base",
            "_view_module_version": "1.2.0",
            "_view_name": "LayoutView",
            "align_content": null,
            "align_items": null,
            "align_self": null,
            "border": null,
            "bottom": null,
            "display": null,
            "flex": null,
            "flex_flow": null,
            "grid_area": null,
            "grid_auto_columns": null,
            "grid_auto_flow": null,
            "grid_auto_rows": null,
            "grid_column": null,
            "grid_gap": null,
            "grid_row": null,
            "grid_template_areas": null,
            "grid_template_columns": null,
            "grid_template_rows": null,
            "height": null,
            "justify_content": null,
            "justify_items": null,
            "left": null,
            "margin": null,
            "max_height": null,
            "max_width": null,
            "min_height": null,
            "min_width": null,
            "object_fit": null,
            "object_position": null,
            "order": null,
            "overflow": null,
            "overflow_x": null,
            "overflow_y": null,
            "padding": null,
            "right": null,
            "top": null,
            "visibility": null,
            "width": null
          }
        },
        "51a5e8355a074f80b188318a309fafd4": {
          "model_module": "@jupyter-widgets/controls",
          "model_name": "DescriptionStyleModel",
          "model_module_version": "1.5.0",
          "state": {
            "_model_module": "@jupyter-widgets/controls",
            "_model_module_version": "1.5.0",
            "_model_name": "DescriptionStyleModel",
            "_view_count": null,
            "_view_module": "@jupyter-widgets/base",
            "_view_module_version": "1.2.0",
            "_view_name": "StyleView",
            "description_width": ""
          }
        },
        "16001ef75f3c42ae9c9942e75da22506": {
          "model_module": "@jupyter-widgets/controls",
          "model_name": "LabelModel",
          "model_module_version": "1.5.0",
          "state": {
            "_dom_classes": [],
            "_model_module": "@jupyter-widgets/controls",
            "_model_module_version": "1.5.0",
            "_model_name": "LabelModel",
            "_view_count": null,
            "_view_module": "@jupyter-widgets/controls",
            "_view_module_version": "1.5.0",
            "_view_name": "LabelView",
            "description": "",
            "description_tooltip": null,
            "layout": "IPY_MODEL_d703aa7702fc4bdc9883f4e8c09dcd82",
            "placeholder": "​",
            "style": "IPY_MODEL_018a6028588a4de28fdf9b8aa14edbab",
            "value": "Connecting..."
          }
        },
        "d703aa7702fc4bdc9883f4e8c09dcd82": {
          "model_module": "@jupyter-widgets/base",
          "model_name": "LayoutModel",
          "model_module_version": "1.2.0",
          "state": {
            "_model_module": "@jupyter-widgets/base",
            "_model_module_version": "1.2.0",
            "_model_name": "LayoutModel",
            "_view_count": null,
            "_view_module": "@jupyter-widgets/base",
            "_view_module_version": "1.2.0",
            "_view_name": "LayoutView",
            "align_content": null,
            "align_items": null,
            "align_self": null,
            "border": null,
            "bottom": null,
            "display": null,
            "flex": null,
            "flex_flow": null,
            "grid_area": null,
            "grid_auto_columns": null,
            "grid_auto_flow": null,
            "grid_auto_rows": null,
            "grid_column": null,
            "grid_gap": null,
            "grid_row": null,
            "grid_template_areas": null,
            "grid_template_columns": null,
            "grid_template_rows": null,
            "height": null,
            "justify_content": null,
            "justify_items": null,
            "left": null,
            "margin": null,
            "max_height": null,
            "max_width": null,
            "min_height": null,
            "min_width": null,
            "object_fit": null,
            "object_position": null,
            "order": null,
            "overflow": null,
            "overflow_x": null,
            "overflow_y": null,
            "padding": null,
            "right": null,
            "top": null,
            "visibility": null,
            "width": null
          }
        },
        "018a6028588a4de28fdf9b8aa14edbab": {
          "model_module": "@jupyter-widgets/controls",
          "model_name": "DescriptionStyleModel",
          "model_module_version": "1.5.0",
          "state": {
            "_model_module": "@jupyter-widgets/controls",
            "_model_module_version": "1.5.0",
            "_model_name": "DescriptionStyleModel",
            "_view_count": null,
            "_view_module": "@jupyter-widgets/base",
            "_view_module_version": "1.2.0",
            "_view_name": "StyleView",
            "description_width": ""
          }
        }
      }
    }
  },
  "cells": [
    {
      "cell_type": "markdown",
      "metadata": {
        "id": "view-in-github",
        "colab_type": "text"
      },
      "source": [
        "<a href=\"https://colab.research.google.com/github/1uch0/LLM_Udemy_course/blob/main/LLM_chatgptmini_toMakePricePredictionFromDescription.ipynb\" target=\"_parent\"><img src=\"https://colab.research.google.com/assets/colab-badge.svg\" alt=\"Open In Colab\"/></a>"
      ]
    },
    {
      "cell_type": "code",
      "execution_count": null,
      "metadata": {
        "id": "EsE7HHLVpihR"
      },
      "outputs": [],
      "source": []
    },
    {
      "cell_type": "markdown",
      "source": [
        "# The Product Pricer Continued\n",
        "\n",
        "A model that can estimate how much something costs, from its description.\n",
        "\n",
        "## Enter The Frontier!\n",
        "\n",
        "And now - we put Frontier Models to the test.\n",
        "\n",
        "### 2 important points:\n",
        "\n",
        "It's important to appreciate that we aren't Training the frontier models. We're only providing them with the Test dataset to see how they perform. They don't gain the benefit of the 400,000 training examples that we provided to the Traditional ML models.\n",
        "\n",
        "HAVING SAID THAT...\n",
        "\n",
        "It's entirely possible that in their monstrously large training data, they've already been exposed to all the products in the training AND the test set. So there could be test \"contamination\" here which gives them an unfair advantage. We should keep that in mind."
      ],
      "metadata": {
        "id": "YSdjF-LPpobl"
      }
    },
    {
      "cell_type": "code",
      "source": [
        "# imports\n",
        "from google.colab import drive\n",
        "drive.mount('/content/drive', force_remount=True)\n",
        "import os\n",
        "import sys\n",
        "import re\n",
        "import math\n",
        "import json\n",
        "import random\n",
        "from huggingface_hub import login\n",
        "\n",
        "sys.path.append('/content/drive/MyDrive/Colab Notebooks/LLM Engineering course/')\n",
        "from google.colab import userdata\n",
        "\n",
        "from items import Item\n",
        "# moved our Tester into a separate package\n",
        "# call it with Tester.test(function_name, test_dataset)\n",
        "\n",
        "from testing import Tester\n",
        "\n",
        "import matplotlib.pyplot as plt\n",
        "import numpy as np\n",
        "import pickle\n",
        "from collections import Counter\n",
        "from openai import OpenAI"
      ],
      "metadata": {
        "colab": {
          "base_uri": "https://localhost:8080/"
        },
        "id": "VE-gSEbzpo9X",
        "outputId": "35cb364e-8349-4a83-cbe5-2739b7468952"
      },
      "execution_count": 1,
      "outputs": [
        {
          "output_type": "stream",
          "name": "stdout",
          "text": [
            "Mounted at /content/drive\n"
          ]
        }
      ]
    },
    {
      "cell_type": "code",
      "source": [
        "#\"#$\"$#\"$#\"$3hf_XaFGnopGYanqZomVsmfcOXpGGbpdgXNKJS$#%$#%$#%$#&%$#$!\"#!\"$%#\"%$#\"\n",
        "#hf_token = os.environ['HF_TOKEN']\n",
        "#login(hf_token, add_to_git_credential=True)\n",
        "login()"
      ],
      "metadata": {
        "colab": {
          "base_uri": "https://localhost:8080/",
          "height": 17,
          "referenced_widgets": [
            "596e17cd336e47b8b787cb7cda853d47",
            "8e51e3d244ae4cdebccc7a0125dae4d3",
            "c462259ed21045b5812278b6a20ee42a",
            "360ed30597ed4877bea12c6209d70eca",
            "1c57a1161f4c4fb8a1c4dadd229e9651",
            "bd5c1f2b643c43c99effece712300eaf",
            "bd075b18f2a4464380148d928bef8846",
            "967b5d677c2b424786d372b05c72dc2f",
            "46ba48d93f74446e966190694a7503f3",
            "0d33680eee2c455bbc938d3ee3a959ba",
            "1f725b1c3e664904a21723512b9abf19",
            "6ad3f8b150a74df68913f9274099e4e3",
            "b3234e04c20b4cca9137eaa4e0b9dd03",
            "a8f6683584674428a12eb207f2df82f6",
            "1ed78ad7811149179be808c38551f695",
            "433ad81335964b769d5eab2067dbd873",
            "51a5e8355a074f80b188318a309fafd4",
            "16001ef75f3c42ae9c9942e75da22506",
            "d703aa7702fc4bdc9883f4e8c09dcd82",
            "018a6028588a4de28fdf9b8aa14edbab"
          ]
        },
        "id": "49czEixq36k6",
        "outputId": "ad633f72-f025-418d-ddc3-c9545cf0fd1a"
      },
      "execution_count": 2,
      "outputs": [
        {
          "output_type": "display_data",
          "data": {
            "text/plain": [
              "VBox(children=(HTML(value='<center> <img\\nsrc=https://huggingface.co/front/assets/huggingface_logo-noborder.sv…"
            ],
            "application/vnd.jupyter.widget-view+json": {
              "version_major": 2,
              "version_minor": 0,
              "model_id": "596e17cd336e47b8b787cb7cda853d47"
            }
          },
          "metadata": {}
        }
      ]
    },
    {
      "cell_type": "code",
      "source": [
        "# OpenAI API Key (Replace with your own key)\n",
        "\n",
        "api_key = userdata.get('Open_AI_API') ##Open_AI_API It is the API key from OPEN_AI saved in your collab\n",
        "openai = OpenAI(api_key=api_key)\n",
        "openai_api_key = api_key\n"
      ],
      "metadata": {
        "id": "wHmAa5LHpqhe"
      },
      "execution_count": 3,
      "outputs": []
    },
    {
      "cell_type": "code",
      "source": [
        "# Let's avoid curating all our data again! Load in the pickle files:\n",
        "\n",
        "# Define the path to your pickle files, relative to your Google Drive mount point.\n",
        "pickle_file_path = '/content/drive/MyDrive/Colab Notebooks/LLM Engineering course/'\n",
        "\n",
        "with open(os.path.join(pickle_file_path, 'train.pkl'), 'rb') as file:\n",
        "    train = pickle.load(file)\n",
        "\n",
        "with open(os.path.join(pickle_file_path, 'test.pkl'), 'rb') as file:\n",
        "    test = pickle.load(file)"
      ],
      "metadata": {
        "id": "Y5myxWvtp971"
      },
      "execution_count": 10,
      "outputs": []
    },
    {
      "cell_type": "code",
      "source": [
        "# Try this out\n",
        "\n",
        "messages_for(test[0])"
      ],
      "metadata": {
        "colab": {
          "base_uri": "https://localhost:8080/"
        },
        "id": "qKD024yVqu0v",
        "outputId": "a409f9e1-4f7b-4e9e-8230-26d1ead1babd"
      },
      "execution_count": 11,
      "outputs": [
        {
          "output_type": "execute_result",
          "data": {
            "text/plain": [
              "[{'role': 'system',\n",
              "  'content': 'You estimate prices of items. Reply only with the price, no explanation'},\n",
              " {'role': 'user',\n",
              "  'content': \"How much does this cost?\\n\\nOEM AC Compressor w/A/C Repair Kit For Ford F150 F-150 V8 & Lincoln Mark LT 2007 2008 - BuyAutoParts NEW\\nAs one of the world's largest automotive parts suppliers, our parts are trusted every day by mechanics and vehicle owners worldwide. This A/C Compressor and Components Kit is manufactured and tested to the strictest OE standards for unparalleled performance. Built for trouble-free ownership and 100% visually inspected and quality tested, this A/C Compressor and Components Kit is backed by our 100% satisfaction guarantee. Guaranteed Exact Fit for easy installation 100% BRAND NEW, premium ISO/TS 16949 quality - tested to meet or exceed OEM specifications Engineered for superior durability, backed by industry-leading unlimited-mileage warranty Included in this K\"},\n",
              " {'role': 'assistant', 'content': 'Price is $'}]"
            ]
          },
          "metadata": {},
          "execution_count": 11
        }
      ]
    },
    {
      "cell_type": "code",
      "source": [
        "# A utility function to extract the price from a string\n",
        "\n",
        "def get_price(s):\n",
        "    s = s.replace('$','').replace(',','')\n",
        "    match = re.search(r\"[-+]?\\d*\\.\\d+|\\d+\", s)\n",
        "    return float(match.group()) if match else 0"
      ],
      "metadata": {
        "id": "YbjC3o0rqyaX"
      },
      "execution_count": 12,
      "outputs": []
    },
    {
      "cell_type": "code",
      "source": [
        "get_price(\"The price is roughly $99.99 because blah blah\")"
      ],
      "metadata": {
        "colab": {
          "base_uri": "https://localhost:8080/"
        },
        "id": "5R51noul8Y3j",
        "outputId": "4a0baf22-8bfb-4bba-dcea-c4abaf3a0c51"
      },
      "execution_count": 13,
      "outputs": [
        {
          "output_type": "execute_result",
          "data": {
            "text/plain": [
              "99.99"
            ]
          },
          "metadata": {},
          "execution_count": 13
        }
      ]
    },
    {
      "cell_type": "code",
      "source": [
        "# The function for gpt-4o-mini\n",
        "\n",
        "def gpt_4o_mini(item):\n",
        "    response = openai.chat.completions.create(\n",
        "        model=\"gpt-4o-mini\",\n",
        "        messages=messages_for(item),\n",
        "        #Sometimes the model will change the seed will change\n",
        "        seed=42,\n",
        "        #max tokens\n",
        "        max_tokens=5\n",
        "    )\n",
        "    reply = response.choices[0].message.content\n",
        "    return get_price(reply)"
      ],
      "metadata": {
        "id": "hqw56IQg8aKN"
      },
      "execution_count": 14,
      "outputs": []
    },
    {
      "cell_type": "code",
      "source": [
        "gpt_4o_mini(test[0])"
      ],
      "metadata": {
        "colab": {
          "base_uri": "https://localhost:8080/"
        },
        "id": "mS5Kq8bn8ba8",
        "outputId": "eff874a1-adf2-4320-ca94-38cd36cd04a5"
      },
      "execution_count": 15,
      "outputs": [
        {
          "output_type": "execute_result",
          "data": {
            "text/plain": [
              "180.0"
            ]
          },
          "metadata": {},
          "execution_count": 15
        }
      ]
    },
    {
      "cell_type": "code",
      "source": [
        "test[0].price"
      ],
      "metadata": {
        "colab": {
          "base_uri": "https://localhost:8080/"
        },
        "id": "bo2PtgAu8csl",
        "outputId": "d7d7ae85-366c-4ad4-be29-4036fe9ebd78"
      },
      "execution_count": 16,
      "outputs": [
        {
          "output_type": "execute_result",
          "data": {
            "text/plain": [
              "374.41"
            ]
          },
          "metadata": {},
          "execution_count": 16
        }
      ]
    },
    {
      "cell_type": "code",
      "source": [
        "Tester.test(gpt_4o_mini, test)"
      ],
      "metadata": {
        "colab": {
          "base_uri": "https://localhost:8080/",
          "height": 1000
        },
        "id": "T9xINsdK8eKx",
        "outputId": "e5aaaf22-8af3-4b16-e66b-3f957c940077"
      },
      "execution_count": 17,
      "outputs": [
        {
          "output_type": "stream",
          "name": "stdout",
          "text": [
            "\u001b[91m1: Guess: $180.00 Truth: $374.41 Error: $194.41 SLE: 0.53 Item: OEM AC Compressor w/A/C Repair Kit For F...\u001b[0m\n",
            "\u001b[91m2: Guess: $75.00 Truth: $225.11 Error: $150.11 SLE: 1.19 Item: Motorcraft YB3125 Fan Clutch\u001b[0m\n",
            "\u001b[92m3: Guess: $45.99 Truth: $61.68 Error: $15.69 SLE: 0.08 Item: Dorman 603-159 Front Washer Fluid Reserv...\u001b[0m\n",
            "\u001b[93m4: Guess: $399.99 Truth: $599.99 Error: $200.00 SLE: 0.16 Item: HP Premium 17.3-inch HD Plus Touchscreen...\u001b[0m\n",
            "\u001b[92m5: Guess: $29.99 Truth: $16.99 Error: $13.00 SLE: 0.30 Item: 5-Position Super Switch Pickup Selector ...\u001b[0m\n",
            "\u001b[92m6: Guess: $15.99 Truth: $31.99 Error: $16.00 SLE: 0.44 Item: Horror Bookmarks, Resin Horror Bookmarks...\u001b[0m\n",
            "\u001b[93m7: Guess: $49.99 Truth: $101.79 Error: $51.80 SLE: 0.49 Item: SK6241 - Stinger 4 Gauge 6000 Series Pow...\u001b[0m\n",
            "\u001b[92m8: Guess: $239.00 Truth: $289.00 Error: $50.00 SLE: 0.04 Item: Godox ML60Bi LED Light Kit, Handheld LED...\u001b[0m\n",
            "\u001b[93m9: Guess: $499.99 Truth: $635.86 Error: $135.87 SLE: 0.06 Item: Randall RG75DG3PLUS G3 Plus 100-Watt Com...\u001b[0m\n",
            "\u001b[92m10: Guess: $47.99 Truth: $65.99 Error: $18.00 SLE: 0.10 Item: HOLDWILL 6 Pack LED Shop Light, 4FT 24W ...\u001b[0m\n",
            "\u001b[93m11: Guess: $180.00 Truth: $254.21 Error: $74.21 SLE: 0.12 Item: Viking Horns V103C/1005ATK 3 Gallon Air ...\u001b[0m\n",
            "\u001b[91m12: Guess: $110.00 Truth: $412.99 Error: $302.99 SLE: 1.73 Item: CURT 70110 Custom Tow Bar Base Plate Bra...\u001b[0m\n",
            "\u001b[91m13: Guess: $29.99 Truth: $205.50 Error: $175.51 SLE: 3.60 Item: 10-Pack Solar HAMMERED BRONZE Finish Pos...\u001b[0m\n",
            "\u001b[92m14: Guess: $239.99 Truth: $248.23 Error: $8.24 SLE: 0.00 Item: COSTWAY Electric Tumble Dryer, Sliver\u001b[0m\n",
            "\u001b[91m15: Guess: $199.99 Truth: $399.00 Error: $199.01 SLE: 0.47 Item: FREE SIGNAL TV Transit 32\" 12 Volt DC Po...\u001b[0m\n",
            "\u001b[93m16: Guess: $499.99 Truth: $373.94 Error: $126.05 SLE: 0.08 Item: Bilstein 5100 Monotube Gas Shock Set com...\u001b[0m\n",
            "\u001b[92m17: Guess: $79.99 Truth: $92.89 Error: $12.90 SLE: 0.02 Item: Sangean K-200 Multi-Function Upright AM/...\u001b[0m\n",
            "\u001b[92m18: Guess: $47.99 Truth: $51.99 Error: $4.00 SLE: 0.01 Item: Charles Leonard Magnetic Lapboard Class ...\u001b[0m\n",
            "\u001b[92m19: Guess: $150.00 Truth: $179.00 Error: $29.00 SLE: 0.03 Item: Gigabyte AMD Radeon HD 7870 2 GB GDDR5 D...\u001b[0m\n",
            "\u001b[92m20: Guess: $12.99 Truth: $19.42 Error: $6.43 SLE: 0.14 Item: 3dRose LLC 8 x 8 x 0.25 Inches Bull Terr...\u001b[0m\n",
            "\u001b[92m21: Guess: $599.00 Truth: $539.95 Error: $59.05 SLE: 0.01 Item: ROKINON 85mm F1.4 Auto Focus Full Frame ...\u001b[0m\n",
            "\u001b[93m22: Guess: $75.99 Truth: $147.67 Error: $71.68 SLE: 0.43 Item: AUTOSAVER88 Headlight Assembly Compatibl...\u001b[0m\n",
            "\u001b[92m23: Guess: $30.99 Truth: $24.99 Error: $6.00 SLE: 0.04 Item: ASI NAUTICAL 2.5 Inches Opera Glasses Bi...\u001b[0m\n",
            "\u001b[91m24: Guess: $39.99 Truth: $149.00 Error: $109.01 SLE: 1.68 Item: Behringer TUBE OVERDRIVE TO100 Authentic...\u001b[0m\n",
            "\u001b[92m25: Guess: $10.99 Truth: $16.99 Error: $6.00 SLE: 0.16 Item: Fun Express Insect Finger Puppets - 24 f...\u001b[0m\n",
            "\u001b[92m26: Guess: $8.99 Truth: $7.99 Error: $1.00 SLE: 0.01 Item: WAFJAMF Roller Stamp Identity Theft Stam...\u001b[0m\n",
            "\u001b[93m27: Guess: $150.00 Truth: $199.99 Error: $49.99 SLE: 0.08 Item: Capulina Tiffany Floor Lamp 2-Light 16\" ...\u001b[0m\n",
            "\u001b[93m28: Guess: $199.99 Truth: $251.45 Error: $51.46 SLE: 0.05 Item: Apple Watch Series 6 (GPS, 44mm) - Space...\u001b[0m\n",
            "\u001b[91m29: Guess: $79.99 Truth: $231.62 Error: $151.63 SLE: 1.11 Item: ICON 01725 Tandem Axle Fender Skirt FS17...\u001b[0m\n",
            "\u001b[91m30: Guess: $350.00 Truth: $135.00 Error: $215.00 SLE: 0.90 Item: SanDisk 128GB Ultra (10 Pack) MicroSD Cl...\u001b[0m\n",
            "\u001b[93m31: Guess: $250.00 Truth: $356.62 Error: $106.62 SLE: 0.13 Item: Velvac 2020,L,C/Hr,W,E2003,102\",Bk - 715...\u001b[0m\n",
            "\u001b[93m32: Guess: $199.99 Truth: $257.99 Error: $58.00 SLE: 0.06 Item: TCMT Passenger Backrest Sissy Bar & Lugg...\u001b[0m\n",
            "\u001b[92m33: Guess: $29.99 Truth: $27.99 Error: $2.00 SLE: 0.00 Item: Alnicov 63.5MM Brass Tremolo Block，Tremo...\u001b[0m\n",
            "\u001b[91m34: Guess: $85.00 Truth: $171.20 Error: $86.20 SLE: 0.48 Item: Subaru Forester Outback Legacy OEM Engin...\u001b[0m\n",
            "\u001b[93m35: Guess: $299.99 Truth: $225.00 Error: $74.99 SLE: 0.08 Item: Richmond Auto Upholstery - 2012 Dodge Ra...\u001b[0m\n",
            "\u001b[92m36: Guess: $110.00 Truth: $105.00 Error: $5.00 SLE: 0.00 Item: AP-39 Automotive Paint Primer Grey 2K Ur...\u001b[0m\n",
            "\u001b[92m37: Guess: $299.99 Truth: $299.99 Error: $0.00 SLE: 0.00 Item: Road Top Wireless Carplay Retrofit Kit D...\u001b[0m\n",
            "\u001b[93m38: Guess: $699.00 Truth: $535.09 Error: $163.91 SLE: 0.07 Item: Gibson Performance Exhaust 5658 Aluminiz...\u001b[0m\n",
            "\u001b[92m39: Guess: $14.99 Truth: $12.33 Error: $2.66 SLE: 0.03 Item: Bella Tunno Happy Links - Baby Montessor...\u001b[0m\n",
            "\u001b[92m40: Guess: $99.99 Truth: $84.99 Error: $15.00 SLE: 0.03 Item: CANMORE H300 Handheld GPS Golf Device, S...\u001b[0m\n",
            "\u001b[92m41: Guess: $19.99 Truth: $15.99 Error: $4.00 SLE: 0.04 Item: DCPOWER AC Adapter Compatible Replacemen...\u001b[0m\n",
            "\u001b[93m42: Guess: $10.99 Truth: $62.44 Error: $51.45 SLE: 2.78 Item: Sharp, VX2128V, Commercial Desktop Calcu...\u001b[0m\n",
            "\u001b[92m43: Guess: $99.99 Truth: $82.99 Error: $17.00 SLE: 0.03 Item: Melissa & Doug Lifelike Plush Stork Gian...\u001b[0m\n",
            "\u001b[91m44: Guess: $348.00 Truth: $599.95 Error: $251.95 SLE: 0.30 Item: Sony SSCS8 2-Way 3-Driver Center Channel...\u001b[0m\n",
            "\u001b[93m45: Guess: $239.99 Truth: $194.99 Error: $45.00 SLE: 0.04 Item: ASUS Chromebook CX1, 14\" Full HD NanoEdg...\u001b[0m\n",
            "\u001b[92m46: Guess: $349.99 Truth: $344.95 Error: $5.04 SLE: 0.00 Item: FiiO X7 32GB Hi-Res Lossless Music Playe...\u001b[0m\n",
            "\u001b[92m47: Guess: $47.99 Truth: $37.99 Error: $10.00 SLE: 0.05 Item: TORRO Leather Case Compatible with iPhon...\u001b[0m\n",
            "\u001b[92m48: Guess: $180.00 Truth: $224.35 Error: $44.35 SLE: 0.05 Item: Universal Air Conditioner KT 1031 A/C Co...\u001b[0m\n",
            "\u001b[93m49: Guess: $1,099.00 Truth: $814.00 Error: $285.00 SLE: 0.09 Item: Street Series Stainless Performance Cat-...\u001b[0m\n",
            "\u001b[92m50: Guess: $399.99 Truth: $439.88 Error: $39.89 SLE: 0.01 Item: Lenovo IdeaPad 3 14-inch Laptop, 14.0-in...\u001b[0m\n",
            "\u001b[92m51: Guess: $349.99 Truth: $341.43 Error: $8.56 SLE: 0.00 Item: Access Bed Covers TonnoSport 22050219 - ...\u001b[0m\n",
            "\u001b[92m52: Guess: $30.00 Truth: $46.78 Error: $16.78 SLE: 0.19 Item: G.I. JOE Hasbro 3 3/4\" Wave 5 Action Fig...\u001b[0m\n",
            "\u001b[91m53: Guess: $315.00 Truth: $171.44 Error: $143.56 SLE: 0.37 Item: T&S Brass B-0232-BST Double Pantry Fauce...\u001b[0m\n",
            "\u001b[92m54: Guess: $499.99 Truth: $458.00 Error: $41.99 SLE: 0.01 Item: ZTUOAUMA Fuel Injection Pump 3090942 309...\u001b[0m\n",
            "\u001b[92m55: Guess: $99.99 Truth: $130.75 Error: $30.76 SLE: 0.07 Item: 2AP18AA#ABA Hp Prime Graphing Calculator...\u001b[0m\n",
            "\u001b[93m56: Guess: $24.99 Truth: $83.81 Error: $58.82 SLE: 1.40 Item: Lowrance 000-0119-83 Nmea 2000 25' Exten...\u001b[0m\n",
            "\u001b[91m57: Guess: $110.00 Truth: $386.39 Error: $276.39 SLE: 1.56 Item: Jeep Genuine Accessories 82213051 Hood L...\u001b[0m\n",
            "\u001b[93m58: Guess: $120.00 Truth: $169.00 Error: $49.00 SLE: 0.12 Item: GODOX CB-06 Hard Carrying Case with Whee...\u001b[0m\n",
            "\u001b[92m59: Guess: $12.99 Truth: $17.95 Error: $4.96 SLE: 0.09 Item: Au-Tomotive Gold, INC. Ford Black Valet ...\u001b[0m\n",
            "\u001b[93m60: Guess: $199.99 Truth: $269.00 Error: $69.01 SLE: 0.09 Item: Snailfly Black Roof Rack Rail + Cross Ba...\u001b[0m\n",
            "\u001b[93m61: Guess: $30.99 Truth: $77.77 Error: $46.78 SLE: 0.81 Item: KING SHA Anti Glare LED Track Lighting H...\u001b[0m\n",
            "\u001b[93m62: Guess: $150.00 Truth: $88.99 Error: $61.01 SLE: 0.27 Item: APS Compatible with Chevy Silverado 1500...\u001b[0m\n",
            "\u001b[93m63: Guess: $250.00 Truth: $364.41 Error: $114.41 SLE: 0.14 Item: Wilwood Engineering 14011291R Brake Cali...\u001b[0m\n",
            "\u001b[92m64: Guess: $120.00 Truth: $127.03 Error: $7.03 SLE: 0.00 Item: ACDelco Gold 336-1925A Starter, Remanufa...\u001b[0m\n",
            "\u001b[93m65: Guess: $499.00 Truth: $778.95 Error: $279.95 SLE: 0.20 Item: UWS EC10783 69-Inch Matte Black Heavy-Wa...\u001b[0m\n",
            "\u001b[93m66: Guess: $250.00 Truth: $206.66 Error: $43.34 SLE: 0.04 Item: Dell Latitude E5440 14in Business Laptop...\u001b[0m\n",
            "\u001b[92m67: Guess: $49.99 Truth: $35.94 Error: $14.05 SLE: 0.10 Item: (Plug and Play) Spare Tire Brake Light W...\u001b[0m\n",
            "\u001b[93m68: Guess: $99.99 Truth: $149.00 Error: $49.01 SLE: 0.16 Item: The Ultimate Roadside Rescue Assistant\u001b[0m\n",
            "\u001b[91m69: Guess: $150.00 Truth: $251.98 Error: $101.98 SLE: 0.27 Item: Brand New 18\" x 8.5\" Replacement Wheel f...\u001b[0m\n",
            "\u001b[92m70: Guess: $150.00 Truth: $160.00 Error: $10.00 SLE: 0.00 Item: Headlight Headlamp LH Left & RH Right Pa...\u001b[0m\n",
            "\u001b[92m71: Guess: $49.99 Truth: $39.99 Error: $10.00 SLE: 0.05 Item: Lilo And Stitch Deluxe Oversize Print La...\u001b[0m\n",
            "\u001b[91m72: Guess: $179.99 Truth: $362.41 Error: $182.42 SLE: 0.49 Item: AC Compressor & A/C Clutch For Hyundai A...\u001b[0m\n",
            "\u001b[92m73: Guess: $350.00 Truth: $344.00 Error: $6.00 SLE: 0.00 Item: House Of Troy PIN475-AB Pinnacle Collect...\u001b[0m\n",
            "\u001b[92m74: Guess: $47.99 Truth: $25.09 Error: $22.90 SLE: 0.40 Item: Juno T29 WH Floating Electrical Feed Sin...\u001b[0m\n",
            "\u001b[91m75: Guess: $75.99 Truth: $175.95 Error: $99.96 SLE: 0.69 Item: Sherman GO-PARTS - for 2013-2016 Toyota ...\u001b[0m\n",
            "\u001b[92m76: Guess: $129.99 Truth: $132.64 Error: $2.65 SLE: 0.00 Item: Roland RPU-3 Electronic Keyboard Pedal o...\u001b[0m\n",
            "\u001b[93m77: Guess: $299.99 Truth: $422.99 Error: $123.00 SLE: 0.12 Item: Rockland VMI14 12,000 Pound 12 Volt DC E...\u001b[0m\n",
            "\u001b[92m78: Guess: $179.99 Truth: $146.48 Error: $33.51 SLE: 0.04 Item: Max Advanced Brakes Elite XDS Front Cros...\u001b[0m\n",
            "\u001b[93m79: Guess: $110.00 Truth: $156.83 Error: $46.83 SLE: 0.12 Item: Quality-Built 11030 Premium Quality Alte...\u001b[0m\n",
            "\u001b[91m80: Guess: $99.99 Truth: $251.99 Error: $152.00 SLE: 0.84 Item: Lucida LG-510 Student Classical Guitar, ...\u001b[0m\n",
            "\u001b[91m81: Guess: $299.99 Truth: $940.33 Error: $640.34 SLE: 1.30 Item: Longacre 52-79800 Aluminum Turn Plates\u001b[0m\n",
            "\u001b[92m82: Guess: $49.99 Truth: $52.99 Error: $3.00 SLE: 0.00 Item: Motion Pro 08-0380 Adjustable Torque Wre...\u001b[0m\n",
            "\u001b[92m83: Guess: $199.99 Truth: $219.95 Error: $19.96 SLE: 0.01 Item: Glyph Thunderbolt 3 NVMe Dock (0 GB)\u001b[0m\n",
            "\u001b[93m84: Guess: $320.00 Truth: $441.03 Error: $121.03 SLE: 0.10 Item: TOYO Open Country MT Performance Radial ...\u001b[0m\n",
            "\u001b[92m85: Guess: $149.99 Truth: $168.98 Error: $18.99 SLE: 0.01 Item: Razer Seiren X USB Streaming Microphone ...\u001b[0m\n",
            "\u001b[92m86: Guess: $5.99 Truth: $2.49 Error: $3.50 SLE: 0.48 Item: Happy Birthday to Dad From Your Daughter...\u001b[0m\n",
            "\u001b[92m87: Guess: $89.99 Truth: $98.62 Error: $8.63 SLE: 0.01 Item: Little Tikes My Real Jam First Concert S...\u001b[0m\n",
            "\u001b[91m88: Guess: $66.99 Truth: $256.95 Error: $189.96 SLE: 1.78 Item: Studio M Peace and Harmony Art Pole Comm...\u001b[0m\n",
            "\u001b[92m89: Guess: $30.99 Truth: $30.99 Error: $0.00 SLE: 0.00 Item: MyVolts 12V Power Supply Adaptor Compati...\u001b[0m\n",
            "\u001b[92m90: Guess: $499.00 Truth: $569.84 Error: $70.84 SLE: 0.02 Item: Dell Latitude 7212 Rugged Extreme Tablet...\u001b[0m\n",
            "\u001b[91m91: Guess: $79.99 Truth: $177.99 Error: $98.00 SLE: 0.63 Item: Covermates Contour Fit Car Cover - Light...\u001b[0m\n",
            "\u001b[92m92: Guess: $1,099.00 Truth: $997.99 Error: $101.01 SLE: 0.01 Item: Westin 57-4025 Black HDX Grille Guard fi...\u001b[0m\n",
            "\u001b[92m93: Guess: $199.00 Truth: $219.00 Error: $20.00 SLE: 0.01 Item: Fieldpiece JL2 Job Link Wireless App Tra...\u001b[0m\n",
            "\u001b[92m94: Guess: $210.00 Truth: $225.55 Error: $15.55 SLE: 0.01 Item: hansgrohe Talis S Modern Premium Easy Cl...\u001b[0m\n",
            "\u001b[91m95: Guess: $1,299.00 Truth: $495.95 Error: $803.05 SLE: 0.92 Item: G-Technology G-SPEED eS PRO High-Perform...\u001b[0m\n",
            "\u001b[93m96: Guess: $699.99 Truth: $942.37 Error: $242.38 SLE: 0.09 Item: DreamLine SHDR-1960723L-01 Shower Door, ...\u001b[0m\n",
            "\u001b[92m97: Guess: $8.99 Truth: $1.94 Error: $7.05 SLE: 1.50 Item: Sanctuary Square Backplate Finish: Oiled...\u001b[0m\n",
            "\u001b[93m98: Guess: $199.95 Truth: $284.34 Error: $84.39 SLE: 0.12 Item: Pelican Protector 1750 Long Case - Multi...\u001b[0m\n",
            "\u001b[91m99: Guess: $85.99 Truth: $171.90 Error: $85.91 SLE: 0.47 Item: Brock Replacement Driver and Passenger H...\u001b[0m\n",
            "\u001b[93m100: Guess: $99.99 Truth: $144.99 Error: $45.00 SLE: 0.14 Item: Carlinkit Ai Box Mini, Android 11, Multi...\u001b[0m\n",
            "\u001b[91m101: Guess: $799.00 Truth: $470.47 Error: $328.53 SLE: 0.28 Item: StarDot NetCamLIVE2 YouTube Live Stream ...\u001b[0m\n",
            "\u001b[92m102: Guess: $30.99 Truth: $66.95 Error: $35.96 SLE: 0.57 Item: Atomic Compatible FILXXCAR0016 16x25x5 M...\u001b[0m\n",
            "\u001b[93m103: Guess: $47.00 Truth: $117.00 Error: $70.00 SLE: 0.81 Item: Bandai Awakening of S. H. s.h.figuarts s...\u001b[0m\n",
            "\u001b[92m104: Guess: $179.99 Truth: $172.14 Error: $7.85 SLE: 0.00 Item: Fit System 62135G Passenger Side Towing ...\u001b[0m\n",
            "\u001b[92m105: Guess: $349.99 Truth: $392.74 Error: $42.75 SLE: 0.01 Item: Black Horse Black Aluminum Exceed Runnin...\u001b[0m\n",
            "\u001b[92m106: Guess: $29.99 Truth: $16.99 Error: $13.00 SLE: 0.30 Item: Dearsun Twinkle Star Color Night Light P...\u001b[0m\n",
            "\u001b[92m107: Guess: $1.00 Truth: $1.34 Error: $0.34 SLE: 0.02 Item: Pokemon - Gallade Spirit Link (83/108) -...\u001b[0m\n",
            "\u001b[91m108: Guess: $199.99 Truth: $349.98 Error: $149.99 SLE: 0.31 Item: Ibanez GA34STCE-NT GIO Series Classical ...\u001b[0m\n",
            "\u001b[91m109: Guess: $1,600.00 Truth: $370.71 Error: $1,229.29 SLE: 2.13 Item: Set 2 Heavy Duty 12-16.5 12x16.5 12 Ply ...\u001b[0m\n",
            "\u001b[92m110: Guess: $49.99 Truth: $65.88 Error: $15.89 SLE: 0.07 Item: Hairpin Table Legs 28\" Heavy Duty Hairpi...\u001b[0m\n",
            "\u001b[91m111: Guess: $120.00 Truth: $229.99 Error: $109.99 SLE: 0.42 Item: Marada Racing Seat with Adjustable Slide...\u001b[0m\n",
            "\u001b[92m112: Guess: $10.99 Truth: $9.14 Error: $1.85 SLE: 0.03 Item: Remington Industries 24UL1007STRWHI25 24...\u001b[0m\n",
            "\u001b[91m113: Guess: $400.00 Truth: $199.00 Error: $201.00 SLE: 0.48 Item: Acer S3-391-6046 13.3-inch Ultrabook, In...\u001b[0m\n",
            "\u001b[92m114: Guess: $129.99 Truth: $109.99 Error: $20.00 SLE: 0.03 Item: ICBEAMER 7\" RGB LED Headlights Bulb Halo...\u001b[0m\n",
            "\u001b[91m115: Guess: $320.00 Truth: $570.42 Error: $250.42 SLE: 0.33 Item: R1 Concepts Front Rear Brakes and Rotors...\u001b[0m\n",
            "\u001b[91m116: Guess: $129.99 Truth: $279.99 Error: $150.00 SLE: 0.58 Item: Camplux 2.64 GPM Tankless , Outdoor Port...\u001b[0m\n",
            "\u001b[92m117: Guess: $25.99 Truth: $30.99 Error: $5.00 SLE: 0.03 Item: KNOKLOCK 10 Pack 3.75 Inch(96mm) Kitchen...\u001b[0m\n",
            "\u001b[92m118: Guess: $15.99 Truth: $31.99 Error: $16.00 SLE: 0.44 Item: Valley Enterprises Yaesu USB FTDI CT-62 ...\u001b[0m\n",
            "\u001b[92m119: Guess: $25.99 Truth: $15.90 Error: $10.09 SLE: 0.22 Item: G9 LED Light Bulbs，8W，75W 100W replaceme...\u001b[0m\n",
            "\u001b[93m120: Guess: $89.99 Truth: $45.99 Error: $44.00 SLE: 0.44 Item: ZCHAOZ 4 Lights Antique White Farmhouse ...\u001b[0m\n",
            "\u001b[91m121: Guess: $199.99 Truth: $113.52 Error: $86.47 SLE: 0.32 Item: Honeywell TH8320R1003 Honeywell VisionPr...\u001b[0m\n",
            "\u001b[92m122: Guess: $594.99 Truth: $516.99 Error: $78.00 SLE: 0.02 Item: Patriot Exhaust H8013-1 1-7/8\" Clippster...\u001b[0m\n",
            "\u001b[93m123: Guess: $120.00 Truth: $196.99 Error: $76.99 SLE: 0.24 Item: Fitrite Autopart New Front Left Driver S...\u001b[0m\n",
            "\u001b[92m124: Guess: $12.99 Truth: $46.55 Error: $33.56 SLE: 1.50 Item: Technical Precision Replacement for GE G...\u001b[0m\n",
            "\u001b[93m125: Guess: $239.99 Truth: $356.99 Error: $117.00 SLE: 0.16 Item: Covercraft Carhartt SeatSaver Front Row ...\u001b[0m\n",
            "\u001b[92m126: Guess: $329.00 Truth: $319.95 Error: $9.05 SLE: 0.00 Item: Sennheiser SD Pro 2 (506008) - Double-Si...\u001b[0m\n",
            "\u001b[92m127: Guess: $120.00 Truth: $96.06 Error: $23.94 SLE: 0.05 Item: Hitachi MAF0110 Mass Air Flow Sensor\u001b[0m\n",
            "\u001b[92m128: Guess: $179.99 Truth: $190.99 Error: $11.00 SLE: 0.00 Item: AmScope SE305R-P-LED-PS36A 10X-30X LED C...\u001b[0m\n",
            "\u001b[91m129: Guess: $85.99 Truth: $257.95 Error: $171.96 SLE: 1.19 Item: Front Left Driver Side Window Regulator ...\u001b[0m\n",
            "\u001b[92m130: Guess: $49.99 Truth: $62.95 Error: $12.96 SLE: 0.05 Item: Premium Replica Hubcap Set, Fits Nissan ...\u001b[0m\n",
            "\u001b[92m131: Guess: $29.99 Truth: $47.66 Error: $17.67 SLE: 0.20 Item: Excellerations Phonics Spelling Game for...\u001b[0m\n",
            "\u001b[91m132: Guess: $349.99 Truth: $226.99 Error: $123.00 SLE: 0.19 Item: RC4WD BigDog Dual Axle Scale Car/Truck T...\u001b[0m\n",
            "\u001b[92m133: Guess: $349.99 Truth: $359.95 Error: $9.96 SLE: 0.00 Item: Unknown Stage 2 Clutch Kit - Low Altitud...\u001b[0m\n",
            "\u001b[93m134: Guess: $30.00 Truth: $78.40 Error: $48.40 SLE: 0.88 Item: 2002-2008 Dodge Ram 1500 Mopar 4X4 Emble...\u001b[0m\n",
            "\u001b[92m135: Guess: $150.00 Truth: $172.77 Error: $22.77 SLE: 0.02 Item: Pro Comp Alloys Series 89 Wheel with Pol...\u001b[0m\n",
            "\u001b[92m136: Guess: $349.99 Truth: $316.45 Error: $33.54 SLE: 0.01 Item: Detroit Axle - Front Rear Strut & Coil S...\u001b[0m\n",
            "\u001b[93m137: Guess: $150.99 Truth: $87.99 Error: $63.00 SLE: 0.29 Item: ECCPP Rear Wheel Axle Replacement fit fo...\u001b[0m\n",
            "\u001b[92m138: Guess: $199.99 Truth: $226.63 Error: $26.64 SLE: 0.02 Item: Dell Latitude E6520 Intel i7-2720QM 2.20...\u001b[0m\n",
            "\u001b[92m139: Guess: $25.99 Truth: $31.49 Error: $5.50 SLE: 0.03 Item: F FIERCE CYCLE 251pcs Black Universal Mo...\u001b[0m\n",
            "\u001b[93m140: Guess: $120.00 Truth: $196.00 Error: $76.00 SLE: 0.24 Item: Flash Furniture 4 Pk. HERCULES Series 88...\u001b[0m\n",
            "\u001b[93m141: Guess: $29.99 Truth: $78.40 Error: $48.41 SLE: 0.89 Item: B&M 30287 Throttle Valve/Kickdown Cable,...\u001b[0m\n",
            "\u001b[92m142: Guess: $150.00 Truth: $116.25 Error: $33.75 SLE: 0.06 Item: Gates TCK226 PowerGrip Premium Timing Be...\u001b[0m\n",
            "\u001b[92m143: Guess: $120.00 Truth: $112.78 Error: $7.22 SLE: 0.00 Item: Monroe Shocks & Struts Quick-Strut 17149...\u001b[0m\n",
            "\u001b[92m144: Guess: $24.99 Truth: $27.32 Error: $2.33 SLE: 0.01 Item: Feit Electric BPMR16/GU10/930CA/6 35W EQ...\u001b[0m\n",
            "\u001b[91m145: Guess: $54.99 Truth: $145.91 Error: $90.92 SLE: 0.93 Item: Yellow Jacket 2806 Contractor Extension ...\u001b[0m\n",
            "\u001b[92m146: Guess: $150.00 Truth: $171.09 Error: $21.09 SLE: 0.02 Item: Garage-Pro Tailgate SET Compatible with ...\u001b[0m\n",
            "\u001b[91m147: Guess: $30.99 Truth: $167.95 Error: $136.96 SLE: 2.77 Item: 3M Perfect It Buffing and Polishing Kit ...\u001b[0m\n",
            "\u001b[92m148: Guess: $49.99 Truth: $28.49 Error: $21.50 SLE: 0.30 Item: Chinese Style Dollhouse Model DIY Miniat...\u001b[0m\n",
            "\u001b[92m149: Guess: $110.00 Truth: $122.23 Error: $12.23 SLE: 0.01 Item: Generic NRG Innovations SRK-161H Steerin...\u001b[0m\n",
            "\u001b[92m150: Guess: $49.99 Truth: $32.99 Error: $17.00 SLE: 0.16 Item: Learning Resources Coding Critters Range...\u001b[0m\n",
            "\u001b[92m151: Guess: $75.99 Truth: $71.20 Error: $4.79 SLE: 0.00 Item: Bosch Automotive 15463 Oxygen Sensor, OE...\u001b[0m\n",
            "\u001b[93m152: Guess: $35.99 Truth: $112.75 Error: $76.76 SLE: 1.26 Item: Case of 24-2 Inch Blue Painters Tape - 6...\u001b[0m\n",
            "\u001b[92m153: Guess: $120.00 Truth: $142.43 Error: $22.43 SLE: 0.03 Item: MOCA Engine Water Pump & Fan Clutch fit ...\u001b[0m\n",
            "\u001b[93m154: Guess: $299.99 Truth: $398.99 Error: $99.00 SLE: 0.08 Item: SAREMAS Foot Step Bars for Hyundai Palis...\u001b[0m\n",
            "\u001b[91m155: Guess: $1,099.00 Truth: $449.00 Error: $650.00 SLE: 0.80 Item: Gretsch G9210 Square Neck Boxcar Mahogan...\u001b[0m\n",
            "\u001b[93m156: Guess: $139.99 Truth: $189.00 Error: $49.01 SLE: 0.09 Item: NikoMaku Mirror Dash Cam Front and Rear ...\u001b[0m\n",
            "\u001b[92m157: Guess: $99.95 Truth: $120.91 Error: $20.96 SLE: 0.04 Item: Fenix HP25R v2.0 USB-C Rechargeable Head...\u001b[0m\n",
            "\u001b[92m158: Guess: $199.99 Truth: $203.53 Error: $3.54 SLE: 0.00 Item: R&L Racing Heavy Duty Roll-Up Soft Tonne...\u001b[0m\n",
            "\u001b[92m159: Guess: $349.99 Truth: $349.99 Error: $0.00 SLE: 0.00 Item: Garmin 010-02258-10 GPSMAP 64sx, Handhel...\u001b[0m\n",
            "\u001b[92m160: Guess: $15.99 Truth: $34.35 Error: $18.36 SLE: 0.54 Item: Brown 5-7/8\" X 8-1/2\" X 3/16\" Thick Heav...\u001b[0m\n",
            "\u001b[92m161: Guess: $349.99 Truth: $384.99 Error: $35.00 SLE: 0.01 Item: GAOMON PD2200 Pen Display & 20 Pen Nibs ...\u001b[0m\n",
            "\u001b[92m162: Guess: $199.99 Truth: $211.00 Error: $11.01 SLE: 0.00 Item: VXMOTOR for 97-03 Ford F150/F250 Lightdu...\u001b[0m\n",
            "\u001b[92m163: Guess: $120.00 Truth: $129.00 Error: $9.00 SLE: 0.01 Item: HP EliteBook 2540p Intel Core i7-640LM X...\u001b[0m\n",
            "\u001b[91m164: Guess: $25.99 Truth: $111.45 Error: $85.46 SLE: 2.04 Item: Green EPX Mixing Nozzles 100-Pack-fits 3...\u001b[0m\n",
            "\u001b[93m165: Guess: $15.99 Truth: $81.12 Error: $65.13 SLE: 2.48 Item: Box Partners 6 1/4 x 3 1/8\" 13 Pt. Manil...\u001b[0m\n",
            "\u001b[91m166: Guess: $120.00 Truth: $457.08 Error: $337.08 SLE: 1.77 Item: Vixen Air 1/2\" NPT Air Ride Suspension H...\u001b[0m\n",
            "\u001b[93m167: Guess: $89.99 Truth: $49.49 Error: $40.50 SLE: 0.35 Item: Smart Floor Lamp, 2700-6500K+RGBPink Mul...\u001b[0m\n",
            "\u001b[93m168: Guess: $30.99 Truth: $80.56 Error: $49.57 SLE: 0.88 Item: SOZG 324mm Wheelbase Body Shell RC Car B...\u001b[0m\n",
            "\u001b[92m169: Guess: $239.99 Truth: $278.39 Error: $38.40 SLE: 0.02 Item: Mickey Thompson ET Street S/S Racing Rad...\u001b[0m\n",
            "\u001b[93m170: Guess: $250.00 Truth: $364.50 Error: $114.50 SLE: 0.14 Item: Pirelli 275/40R20 106W XL RFT P0 PZ4-LUX...\u001b[0m\n",
            "\u001b[93m171: Guess: $260.00 Truth: $378.99 Error: $118.99 SLE: 0.14 Item: Torklift C3212 Rear Tie Down\u001b[0m\n",
            "\u001b[91m172: Guess: $250.00 Truth: $165.28 Error: $84.72 SLE: 0.17 Item: Cardone 78-4226 Remanufactured Ford Comp...\u001b[0m\n",
            "\u001b[92m173: Guess: $49.99 Truth: $56.74 Error: $6.75 SLE: 0.02 Item: Kidde AccessPoint 001798 Supra TouchPoin...\u001b[0m\n",
            "\u001b[91m174: Guess: $179.99 Truth: $307.95 Error: $127.96 SLE: 0.29 Item: 3M Protecta 3100414 Self Retracting Life...\u001b[0m\n",
            "\u001b[92m175: Guess: $47.99 Truth: $38.00 Error: $9.99 SLE: 0.05 Item: Plantronics 89435-01 Wired Headset, Blac...\u001b[0m\n",
            "\u001b[92m176: Guess: $49.99 Truth: $53.00 Error: $3.01 SLE: 0.00 Item: Logitech K750 Wireless Solar Keyboard fo...\u001b[0m\n",
            "\u001b[91m177: Guess: $699.00 Truth: $498.00 Error: $201.00 SLE: 0.11 Item: Olympus PEN E-PL9 Body Only with 3-Inch ...\u001b[0m\n",
            "\u001b[93m178: Guess: $120.00 Truth: $53.99 Error: $66.01 SLE: 0.62 Item: Beck/Arnley 051-6066 Hub & Bearing Assem...\u001b[0m\n",
            "\u001b[93m179: Guess: $249.99 Truth: $350.00 Error: $100.01 SLE: 0.11 Item: Eibach Pro-Kit Performance Springs E10-6...\u001b[0m\n",
            "\u001b[93m180: Guess: $199.99 Truth: $299.95 Error: $99.96 SLE: 0.16 Item: LEGO DC Batman 1989 Batwing 76161 Displa...\u001b[0m\n",
            "\u001b[92m181: Guess: $99.99 Truth: $94.93 Error: $5.06 SLE: 0.00 Item: Kingston Brass KS3608PL Restoration 4-In...\u001b[0m\n",
            "\u001b[93m182: Guess: $299.00 Truth: $379.00 Error: $80.00 SLE: 0.06 Item: Polk Vanishing Series 265-LS In-Wall 3-W...\u001b[0m\n",
            "\u001b[93m183: Guess: $199.99 Truth: $299.95 Error: $99.96 SLE: 0.16 Item: Spec-D Tuning LED Projector Headlights G...\u001b[0m\n",
            "\u001b[92m184: Guess: $24.99 Truth: $24.99 Error: $0.00 SLE: 0.00 Item: RICHMOND & FINCH Airpod Pro Case, Green ...\u001b[0m\n",
            "\u001b[92m185: Guess: $75.00 Truth: $41.04 Error: $33.96 SLE: 0.35 Item: LFA Industries 43B-5A-33JT 1/16-1/2-1.5-...\u001b[0m\n",
            "\u001b[91m186: Guess: $150.00 Truth: $327.90 Error: $177.90 SLE: 0.61 Item: SAUTVS LED Headlight Assembly for Slings...\u001b[0m\n",
            "\u001b[92m187: Guess: $15.99 Truth: $10.99 Error: $5.00 SLE: 0.12 Item: 2 Pack Combo Womens Safety Glasses Impac...\u001b[0m\n",
            "\u001b[92m188: Guess: $15.99 Truth: $14.99 Error: $1.00 SLE: 0.00 Item: Arepa - Venezuelan cuisine - Venezuela P...\u001b[0m\n",
            "\u001b[93m189: Guess: $10.99 Truth: $84.95 Error: $73.96 SLE: 3.88 Item: Schlage Lock Company KS23D2300 Padlock, ...\u001b[0m\n",
            "\u001b[92m190: Guess: $99.99 Truth: $111.00 Error: $11.01 SLE: 0.01 Item: Techni Mobili White Sit to Stand Mobile ...\u001b[0m\n",
            "\u001b[93m191: Guess: $47.99 Truth: $123.73 Error: $75.74 SLE: 0.87 Item: Special Lite Products Contemporary Wall ...\u001b[0m\n",
            "\u001b[92m192: Guess: $499.99 Truth: $557.38 Error: $57.39 SLE: 0.01 Item: Tascam DP-24SD 24-Track Digital Portastu...\u001b[0m\n",
            "\u001b[93m193: Guess: $150.00 Truth: $95.55 Error: $54.45 SLE: 0.20 Item: Glow Lighting 636CC10SP Vista Crystal Fl...\u001b[0m\n",
            "\u001b[93m194: Guess: $199.99 Truth: $154.00 Error: $45.99 SLE: 0.07 Item: Z3 Wind Deflector, Smoke Tint, Lexan, Wi...\u001b[0m\n",
            "\u001b[93m195: Guess: $150.00 Truth: $198.99 Error: $48.99 SLE: 0.08 Item: Olympus E-20 5MP Digital Camera w/ 4x Op...\u001b[0m\n",
            "\u001b[91m196: Guess: $199.99 Truth: $430.44 Error: $230.45 SLE: 0.58 Item: PHYNEDI 1:1000 World Trade Center (1973-...\u001b[0m\n",
            "\u001b[92m197: Guess: $25.99 Truth: $45.67 Error: $19.68 SLE: 0.30 Item: YANGHUAN Unstable Unicorns Adventure Car...\u001b[0m\n",
            "\u001b[92m198: Guess: $199.99 Truth: $249.00 Error: $49.01 SLE: 0.05 Item: Interlogix NX-1820E NetworX Touch Screen...\u001b[0m\n",
            "\u001b[92m199: Guess: $35.99 Truth: $42.99 Error: $7.00 SLE: 0.03 Item: Steering Damper,Universal Motorcycle Han...\u001b[0m\n",
            "\u001b[93m200: Guess: $239.99 Truth: $181.33 Error: $58.66 SLE: 0.08 Item: Amprobe TIC 410A Hot Stick Attachment\u001b[0m\n",
            "\u001b[92m201: Guess: $5.99 Truth: $6.03 Error: $0.04 SLE: 0.00 Item: MyCableMart 3.5mm Plug/Jack, 4 Conductor...\u001b[0m\n",
            "\u001b[92m202: Guess: $39.95 Truth: $29.99 Error: $9.96 SLE: 0.08 Item: OtterBox + Pop Symmetry Series Case for ...\u001b[0m\n",
            "\u001b[93m203: Guess: $600.00 Truth: $899.00 Error: $299.00 SLE: 0.16 Item: Dell XPS X8700-1572BLK Desktop ( Intel C...\u001b[0m\n",
            "\u001b[93m204: Guess: $299.99 Truth: $399.99 Error: $100.00 SLE: 0.08 Item: Franklin Iron Works Sperry Industrial Br...\u001b[0m\n",
            "\u001b[92m205: Guess: $10.99 Truth: $4.66 Error: $6.33 SLE: 0.56 Item: Avery Legal Dividers, Standard Collated ...\u001b[0m\n",
            "\u001b[91m206: Guess: $129.99 Truth: $261.41 Error: $131.42 SLE: 0.48 Item: Moen 8346 Commercial Posi-Temp Pressure ...\u001b[0m\n",
            "\u001b[92m207: Guess: $100.99 Truth: $136.97 Error: $35.98 SLE: 0.09 Item: Carlisle Versa Trail ATR All Terrain Rad...\u001b[0m\n",
            "\u001b[93m208: Guess: $120.00 Truth: $79.00 Error: $41.00 SLE: 0.17 Item: SUNWAYFOTO 44mm Tripod Ball Head Arca Co...\u001b[0m\n",
            "\u001b[91m209: Guess: $180.00 Truth: $444.99 Error: $264.99 SLE: 0.81 Item: NanoBeam AC NBE-5AC-Gen2-US 4 Units 5GHz...\u001b[0m\n",
            "\u001b[92m210: Guess: $349.99 Truth: $411.94 Error: $61.95 SLE: 0.03 Item: WULF 4\" Front 2\" Rear Leveling Lift Kit ...\u001b[0m\n",
            "\u001b[91m211: Guess: $250.00 Truth: $148.40 Error: $101.60 SLE: 0.27 Item: Alera ALEVABFMC Valencia Series Mobile B...\u001b[0m\n",
            "\u001b[91m212: Guess: $90.00 Truth: $244.99 Error: $154.99 SLE: 0.99 Item: YU-GI-OH! Ignition Assault Booster Box\u001b[0m\n",
            "\u001b[92m213: Guess: $99.99 Truth: $86.50 Error: $13.49 SLE: 0.02 Item: 48\" x 36\" Extra-Large Framed Magnetic Bl...\u001b[0m\n",
            "\u001b[91m214: Guess: $99.99 Truth: $297.95 Error: $197.96 SLE: 1.18 Item: Dell Latitude D620 Renewed Notebook PC\u001b[0m\n",
            "\u001b[93m215: Guess: $499.99 Truth: $399.99 Error: $100.00 SLE: 0.05 Item: acer Aspire 5 Laptop, AMD Ryzen 3 5300U ...\u001b[0m\n",
            "\u001b[91m216: Guess: $180.00 Truth: $599.00 Error: $419.00 SLE: 1.44 Item: Elk 31080/6RC-GRN 30 by 6-Inch Viva 6-Li...\u001b[0m\n",
            "\u001b[91m217: Guess: $25.99 Truth: $105.99 Error: $80.00 SLE: 1.90 Item: Barbie Top Model Doll\u001b[0m\n",
            "\u001b[92m218: Guess: $699.99 Truth: $689.00 Error: $10.99 SLE: 0.00 Item: Danby Designer 20-In. Electric Range wit...\u001b[0m\n",
            "\u001b[92m219: Guess: $399.99 Truth: $404.99 Error: $5.00 SLE: 0.00 Item: FixtureDisplays® Metal Truss Podium Doub...\u001b[0m\n",
            "\u001b[91m220: Guess: $120.00 Truth: $207.76 Error: $87.76 SLE: 0.30 Item: ACDelco 13597235 GM Original Equipment A...\u001b[0m\n",
            "\u001b[91m221: Guess: $299.99 Truth: $171.82 Error: $128.17 SLE: 0.31 Item: EBC S1KF1135 Stage-1 Premium Street Brak...\u001b[0m\n",
            "\u001b[92m222: Guess: $349.99 Truth: $293.24 Error: $56.75 SLE: 0.03 Item: FXR Men's Boost FX Jacket (Black/Orange/...\u001b[0m\n",
            "\u001b[91m223: Guess: $599.95 Truth: $374.95 Error: $225.00 SLE: 0.22 Item: SuperATV Scratch Resistant 3-in-1 Flip W...\u001b[0m\n",
            "\u001b[93m224: Guess: $49.99 Truth: $111.99 Error: $62.00 SLE: 0.63 Item: SBU 3 Layer All Weather Mini Van Car Cov...\u001b[0m\n",
            "\u001b[92m225: Guess: $24.99 Truth: $42.99 Error: $18.00 SLE: 0.28 Item: 2 Pack Outdoor Brochure Holder Advertisi...\u001b[0m\n",
            "\u001b[92m226: Guess: $120.00 Truth: $116.71 Error: $3.29 SLE: 0.00 Item: Monroe Shocks & Struts Quick-Strut 17158...\u001b[0m\n",
            "\u001b[91m227: Guess: $210.00 Truth: $118.61 Error: $91.39 SLE: 0.32 Item: Elements of Design Magellan EB235AL Thre...\u001b[0m\n",
            "\u001b[92m228: Guess: $150.00 Truth: $147.12 Error: $2.88 SLE: 0.00 Item: GM Genuine Parts 15-62961 Air Conditioni...\u001b[0m\n",
            "\u001b[92m229: Guess: $139.00 Truth: $119.99 Error: $19.01 SLE: 0.02 Item: Baseus 17-in-1 USB C Docking Station to ...\u001b[0m\n",
            "\u001b[93m230: Guess: $239.00 Truth: $369.98 Error: $130.98 SLE: 0.19 Item: Whitehall™ Personalized Whitehall Capito...\u001b[0m\n",
            "\u001b[92m231: Guess: $299.99 Truth: $315.55 Error: $15.56 SLE: 0.00 Item: Pro Circuit Works Pipe PY05250 for 02-19...\u001b[0m\n",
            "\u001b[92m232: Guess: $199.99 Truth: $190.99 Error: $9.00 SLE: 0.00 Item: HYANKA 15 \"1200W Professional DJ Speaker...\u001b[0m\n",
            "\u001b[92m233: Guess: $120.00 Truth: $155.00 Error: $35.00 SLE: 0.06 Item: Bluetooth X6BT Card Reader Writer Encode...\u001b[0m\n",
            "\u001b[92m234: Guess: $299.99 Truth: $349.99 Error: $50.00 SLE: 0.02 Item: AIRAID Cold Air Intake System by K&N: In...\u001b[0m\n",
            "\u001b[93m235: Guess: $199.99 Truth: $249.99 Error: $50.00 SLE: 0.05 Item: Bostingner Shower Faucets Sets Complete,...\u001b[0m\n",
            "\u001b[92m236: Guess: $47.99 Truth: $42.99 Error: $5.00 SLE: 0.01 Item: PIT66 Front Bumper Turn Signal Lights, C...\u001b[0m\n",
            "\u001b[92m237: Guess: $14.99 Truth: $17.99 Error: $3.00 SLE: 0.03 Item: Caseology Bumpy Compatible with Google P...\u001b[0m\n",
            "\u001b[92m238: Guess: $350.00 Truth: $425.00 Error: $75.00 SLE: 0.04 Item: Fleck 2510 Timer Mechanical Filter Contr...\u001b[0m\n",
            "\u001b[93m239: Guess: $199.99 Truth: $249.99 Error: $50.00 SLE: 0.05 Item: Haloview MC7108 Wireless RV Backup Camer...\u001b[0m\n",
            "\u001b[91m240: Guess: $30.00 Truth: $138.23 Error: $108.23 SLE: 2.26 Item: Schmidt Spiele - Manhattan\u001b[0m\n",
            "\u001b[91m241: Guess: $199.99 Truth: $414.99 Error: $215.00 SLE: 0.53 Item: Corsa 14333 Tip Kit (Ford Mustang GT)\u001b[0m\n",
            "\u001b[93m242: Guess: $210.00 Truth: $168.28 Error: $41.72 SLE: 0.05 Item: Hoshizaki FM116A Fan Motor Kit 1\u001b[0m\n",
            "\u001b[92m243: Guess: $199.99 Truth: $199.99 Error: $0.00 SLE: 0.00 Item: BAINUO Antler Chandelier Lighting,6 Ligh...\u001b[0m\n",
            "\u001b[92m244: Guess: $100.00 Truth: $126.70 Error: $26.70 SLE: 0.06 Item: DNA MOTORING HL-OH-FEXP06-SM-AM Smoke Le...\u001b[0m\n",
            "\u001b[92m245: Guess: $10.99 Truth: $5.91 Error: $5.08 SLE: 0.30 Item: Wera Stainless 3840/1 TS 2.5mm Hex Inser...\u001b[0m\n",
            "\u001b[92m246: Guess: $199.99 Truth: $193.06 Error: $6.93 SLE: 0.00 Item: Celestron - PowerSeeker 127EQ Telescope ...\u001b[0m\n",
            "\u001b[93m247: Guess: $299.99 Truth: $249.99 Error: $50.00 SLE: 0.03 Item: NHOPEEW 10.1inch Android Car Radio Carpl...\u001b[0m\n",
            "\u001b[92m248: Guess: $49.99 Truth: $64.12 Error: $14.13 SLE: 0.06 Item: Other Harmonica (Suzuki-2Timer24- A)\u001b[0m\n",
            "\u001b[92m249: Guess: $149.99 Truth: $114.99 Error: $35.00 SLE: 0.07 Item: Harley Air Filter Venturi Intake Air Cle...\u001b[0m\n",
            "\u001b[93m250: Guess: $699.00 Truth: $926.00 Error: $227.00 SLE: 0.08 Item: Elite Screens Edge Free Ambient Light Re...\u001b[0m\n"
          ]
        },
        {
          "output_type": "display_data",
          "data": {
            "text/plain": [
              "<Figure size 1200x800 with 1 Axes>"
            ],
            "image/png": "[encoded data removed]"
          },
          "metadata": {}
        }
      ]
    },
    {
      "cell_type": "code",
      "source": [],
      "metadata": {
        "id": "CBwDEZU68fTB"
      },
      "execution_count": null,
      "outputs": []
    }
  ]
}