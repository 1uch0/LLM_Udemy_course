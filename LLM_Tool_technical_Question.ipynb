{
  "nbformat": 4,
  "nbformat_minor": 0,
  "metadata": {
    "colab": {
      "provenance": [],
      "authorship_tag": "ABX9TyPDdCPC5+i1x4fU3mox2FYI",
      "include_colab_link": true
    },
    "kernelspec": {
      "name": "python3",
      "display_name": "Python 3"
    },
    "language_info": {
      "name": "python"
    }
  },
  "cells": [
    {
      "cell_type": "markdown",
      "metadata": {
        "id": "view-in-github",
        "colab_type": "text"
      },
      "source": [
        "<a href=\"https://colab.research.google.com/github/1uch0/LLM_Udemy_course/blob/main/LLM_Tool_technical_Question.ipynb\" target=\"_parent\"><img src=\"https://colab.research.google.com/assets/colab-badge.svg\" alt=\"Open In Colab\"/></a>"
      ]
    },
    {
      "cell_type": "code",
      "execution_count": 1,
      "metadata": {
        "id": "hKAoPB2mVNSL"
      },
      "outputs": [],
      "source": [
        "#tool that takes a technical question, and responds with an explanation. This is a tool that you will be able to use yourself during the course!"
      ]
    },
    {
      "cell_type": "code",
      "source": [
        "# imports\n",
        "from IPython.display import Markdown, display, update_display\n",
        "from openai import OpenAI\n",
        "import openai\n",
        "from google.colab import userdata\n",
        "import os\n",
        "import requests\n"
      ],
      "metadata": {
        "id": "2cPMQW1SVSJt"
      },
      "execution_count": 1,
      "outputs": []
    },
    {
      "cell_type": "code",
      "source": [
        "api_key = userdata.get('Open_AI_API') ##Open_AI_API It is the API key from OPEN_AI saved in your collab"
      ],
      "metadata": {
        "id": "BNntlIlXVTXG"
      },
      "execution_count": 2,
      "outputs": []
    },
    {
      "cell_type": "code",
      "source": [
        "openai = OpenAI(api_key=api_key)"
      ],
      "metadata": {
        "id": "UCpuUmGLVexO"
      },
      "execution_count": 3,
      "outputs": []
    },
    {
      "cell_type": "code",
      "source": [
        "MODEL_GPT = 'gpt-4o-mini'"
      ],
      "metadata": {
        "id": "qIeafmedVhgE"
      },
      "execution_count": 4,
      "outputs": []
    },
    {
      "cell_type": "code",
      "source": [
        "# Check the key\n",
        "\n",
        "if not api_key:\n",
        "    print(\"No API key was found - please head over to the troubleshooting notebook in this folder to identify & fix!\")\n",
        "elif not api_key.startswith(\"sk-proj-\"):\n",
        "    print(\"An API key was found, but it doesn't start sk-proj-; please check you're using the right key - see troubleshooting notebook\")\n",
        "elif api_key.strip() != api_key:\n",
        "    print(\"An API key was found, but it looks like it might have space or tab characters at the start or end - please remove them - see troubleshooting notebook\")\n",
        "else:\n",
        "    print(\"API key found and looks good so far!\")"
      ],
      "metadata": {
        "colab": {
          "base_uri": "https://localhost:8080/"
        },
        "id": "88BJfMvnVj9b",
        "outputId": "58c4eb20-bdd8-4394-b1c4-f8a5945d677b"
      },
      "execution_count": 5,
      "outputs": [
        {
          "output_type": "stream",
          "name": "stdout",
          "text": [
            "API key found and looks good so far!\n"
          ]
        }
      ]
    },
    {
      "cell_type": "code",
      "source": [
        "# here is the question; type over this to ask something new\n",
        "\n",
        "system_prompt =\"You are a tool that takes a technical question,and responds with an explanation\"\n",
        "\n",
        "question = \"What is happiness?\""
      ],
      "metadata": {
        "id": "LmEAljNsVn2l"
      },
      "execution_count": 6,
      "outputs": []
    },
    {
      "cell_type": "code",
      "source": [
        "\n",
        "response = openai.chat.completions.create(model=\"gpt-4o-mini\",\n",
        "                                          messages=[\n",
        "                                            {\"role\": \"system\", \"content\": system_prompt},\n",
        "                                            {\"role\": \"user\", \"content\": question}\n",
        "                                          ]\n",
        "                                         )\n",
        "print(response.choices[0].message.content)"
      ],
      "metadata": {
        "colab": {
          "base_uri": "https://localhost:8080/"
        },
        "id": "Xtk9nRMDVtcm",
        "outputId": "e8c7a343-0b77-41ef-b5ad-cd0630f82ecb"
      },
      "execution_count": 7,
      "outputs": [
        {
          "output_type": "stream",
          "name": "stdout",
          "text": [
            "Happiness is a complex and multifaceted emotional state characterized by feelings of joy, contentment, and fulfillment. It can be influenced by a variety of factors, including biological, psychological, and social elements. \n",
            "\n",
            "From a psychological perspective, happiness often relates to the evaluation of one’s life as a whole, as well as moment-to-moment feelings of pleasure or satisfaction. Theories such as Positive Psychology emphasize the importance of factors like positive relationships, meaningful engagement, and a sense of accomplishment in contributing to overall happiness.\n",
            "\n",
            "Biologically, happiness can be linked to the release of neurotransmitters and hormones, such as dopamine and serotonin, which are associated with reward and mood regulation. \n",
            "\n",
            "Culturally and socially, happiness can be influenced by individual values and societal norms, which shape what happiness means to different people.\n",
            "\n",
            "Overall, happiness is considered both a subjective experience—where individuals assess their own emotional states—and an objective condition, which can involve external circumstances such as relationships, health, and economic stability. It is important to recognize that happiness is not a fixed state; it can fluctuate over time and be experienced differently by each individual.\n"
          ]
        }
      ]
    },
    {
      "cell_type": "code",
      "source": [],
      "metadata": {
        "id": "U2gb2yjWVvo9"
      },
      "execution_count": 7,
      "outputs": []
    }
  ]
}