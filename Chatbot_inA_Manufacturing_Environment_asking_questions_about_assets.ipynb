{
  "nbformat": 4,
  "nbformat_minor": 0,
  "metadata": {
    "colab": {
      "provenance": [],
      "authorship_tag": "ABX9TyPQgut2Vad2oB+cPN1o9GV0",
      "include_colab_link": true
    },
    "kernelspec": {
      "name": "python3",
      "display_name": "Python 3"
    },
    "language_info": {
      "name": "python"
    }
  },
  "cells": [
    {
      "cell_type": "markdown",
      "metadata": {
        "id": "view-in-github",
        "colab_type": "text"
      },
      "source": [
        "<a href=\"https://colab.research.google.com/github/1uch0/LLM_Udemy_course/blob/main/Chatbot_inA_Manufacturing_Environment_asking_questions_about_assets.ipynb\" target=\"_parent\"><img src=\"https://colab.research.google.com/assets/colab-badge.svg\" alt=\"Open In Colab\"/></a>"
      ]
    },
    {
      "cell_type": "code",
      "source": [
        "#!pip install gradio\n",
        "import os\n",
        "from openai import OpenAI\n",
        "from google.colab import userdata"
      ],
      "metadata": {
        "id": "IkZn2rShnH_j"
      },
      "execution_count": 7,
      "outputs": []
    },
    {
      "cell_type": "code",
      "source": [
        "import gradio as gr\n",
        "import json\n",
        "import os\n",
        "import openai\n"
      ],
      "metadata": {
        "id": "vFwH_KnWrPk4"
      },
      "execution_count": 8,
      "outputs": []
    },
    {
      "cell_type": "code",
      "execution_count": 10,
      "metadata": {
        "colab": {
          "base_uri": "https://localhost:8080/",
          "height": 646
        },
        "id": "8aUklUEnnFUe",
        "outputId": "0cfd1d40-0a23-4595-f940-3693b994f344"
      },
      "outputs": [
        {
          "output_type": "stream",
          "name": "stdout",
          "text": [
            "Colab notebook detected. This cell will run indefinitely so that you can see errors and logs. To turn off, set debug=False in launch().\n",
            "* Running on public URL: https://e4324529317c0b34de.gradio.live\n",
            "\n",
            "This share link expires in 72 hours. For free permanent hosting and GPU upgrades, run `gradio deploy` from the terminal in the working directory to deploy to Hugging Face Spaces (https://huggingface.co/spaces)\n"
          ]
        },
        {
          "output_type": "display_data",
          "data": {
            "text/plain": [
              "<IPython.core.display.HTML object>"
            ],
            "text/html": [
              "<div><iframe src=\"https://e4324529317c0b34de.gradio.live\" width=\"100%\" height=\"500\" allow=\"autoplay; camera; microphone; clipboard-read; clipboard-write;\" frameborder=\"0\" allowfullscreen></iframe></div>"
            ]
          },
          "metadata": {}
        },
        {
          "output_type": "stream",
          "name": "stdout",
          "text": [
            "Keyboard interruption in main thread... closing server.\n",
            "Killing tunnel 127.0.0.1:7860 <> https://e4324529317c0b34de.gradio.live\n"
          ]
        }
      ],
      "source": [
        "\n",
        "# OpenAI API Key (Replace with your own key)\n",
        "\n",
        "api_key = userdata.get('Open_AI_API') ##Open_AI_API It is the API key from OPEN_AI saved in your collab\n",
        "openai = OpenAI(api_key=api_key)\n",
        "openai_api_key = api_key\n",
        "\n",
        "# File to store robot resources\n",
        "FILE_PATH = \"robot_resources.json\"\n",
        "\n",
        "# Load existing robots from file\n",
        "def load_robots():\n",
        "    if os.path.exists(FILE_PATH):\n",
        "        with open(FILE_PATH, \"r\") as file:\n",
        "            return json.load(file)\n",
        "    return []\n",
        "\n",
        "# Save robots to file\n",
        "def save_robots():\n",
        "    with open(FILE_PATH, \"w\") as file:\n",
        "        json.dump(robot_resources, file, indent=2)\n",
        "\n",
        "# Dictionary to store robot resources\n",
        "robot_resources = load_robots()\n",
        "\n",
        "# Function to add a robot\n",
        "def add_robot(name, type, capabilities):\n",
        "    robot = {\"name\": name, \"type\": type, \"capabilities\": capabilities}\n",
        "    robot_resources.append(robot)\n",
        "    save_robots()\n",
        "    return f\"Robot {name} added successfully!\"\n",
        "\n",
        "# Format robots for display\n",
        "def format_robots(robots):\n",
        "    if not robots:\n",
        "        return \"No robots found.\"\n",
        "    return \"\\n\\n\".join(\n",
        "        [f\"**Name:** {r['name']}  \\n**Type:** {r['type']}  \\n**Capabilities:** {', '.join(r['capabilities'])}\" for r in robots]\n",
        "    )\n",
        "\n",
        "# Function to retrieve all robots\n",
        "def view_robots():\n",
        "    return json.dumps(robot_resources, indent=2)\n",
        "\n",
        "# Function to filter robots by capability\n",
        "def find_robots_by_capability(capability):\n",
        "    filtered_robots = [robot for robot in robot_resources if capability in robot[\"capabilities\"]]\n",
        "    return json.dumps(filtered_robots, indent=2) if filtered_robots else \"No robots found with that capability.\"\n",
        "\n",
        "# Function to process OpenAI query\n",
        "def ask_openai(prompt):\n",
        "    messages=[{\"role\": \"system\", \"content\": \"You are an expert in robotics resource management.\"},\n",
        "                  {\"role\": \"user\", \"content\": f\"{prompt}\\n\\nHere is the stored robot data:\\n{json.dumps(robot_resources, indent=2)}\"}]\n",
        "\n",
        "    response = openai.chat.completions.create(\n",
        "        model=\"gpt-4o-mini\",\n",
        "        messages=messages,\n",
        "\n",
        "    )\n",
        "    return response.choices[0].message.content\n",
        "\n",
        "# Gradio UI\n",
        "def launch_app():\n",
        "    robot_types = [\"AGV\", \"CNC\", \"Robot\"]\n",
        "    capabilities_list = [\"Transport\", \"Milling\", \"Welding\", \"Pick and Place\", \"Painting\"]\n",
        "\n",
        "    with gr.Blocks() as demo:\n",
        "        gr.Markdown(\"## Robot Resource Manager\")\n",
        "\n",
        "        with gr.Row():\n",
        "            name = gr.Textbox(label=\"Robot Name\")\n",
        "            type = gr.Dropdown(choices=robot_types, label=\"Robot Type\")\n",
        "            capabilities = gr.CheckboxGroup(choices=capabilities_list, label=\"Capabilities\")\n",
        "            add_button = gr.Button(\"Add Robot\")\n",
        "\n",
        "        status_output = gr.Textbox(label=\"Status\", interactive=False)\n",
        "        add_button.click(add_robot, inputs=[name, type, capabilities], outputs=[status_output])\n",
        "\n",
        "        view_button = gr.Button(\"View All Robots\")\n",
        "        robots_output = gr.Markdown()\n",
        "        view_button.click(view_robots, inputs=[], outputs=[robots_output])\n",
        "\n",
        "        capability_input = gr.Dropdown(choices=capabilities_list, label=\"Find Robots by Capability\")\n",
        "        capability_button = gr.Button(\"Find\")\n",
        "        capability_output = gr.Markdown()\n",
        "        capability_button.click(find_robots_by_capability, inputs=[capability_input], outputs=[capability_output])\n",
        "\n",
        "        gr.Markdown(\"## Ask about Robots\")\n",
        "        openai_prompt = gr.Textbox(label=\"Ask anything about the stored robots\")\n",
        "        openai_button = gr.Button(\"Ask AI\")\n",
        "        openai_output = gr.Textbox(label=\"AI Response\", interactive=False)\n",
        "        openai_button.click(ask_openai, inputs=[openai_prompt], outputs=[openai_output])\n",
        "\n",
        "    demo.launch(share=True, debug=True )\n",
        "\n",
        "# Launch Gradio in Colab\n",
        "launch_app()\n"
      ]
    },
    {
      "cell_type": "code",
      "source": [],
      "metadata": {
        "id": "eYEa7YGknG1-"
      },
      "execution_count": null,
      "outputs": []
    }
  ]
}