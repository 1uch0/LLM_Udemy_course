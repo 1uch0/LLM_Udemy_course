{
  "nbformat": 4,
  "nbformat_minor": 0,
  "metadata": {
    "colab": {
      "provenance": [],
      "authorship_tag": "ABX9TyPTwvVm3mN+WIoMP/S0xfk8",
      "include_colab_link": true
    },
    "kernelspec": {
      "name": "python3",
      "display_name": "Python 3"
    },
    "language_info": {
      "name": "python"
    }
  },
  "cells": [
    {
      "cell_type": "markdown",
      "metadata": {
        "id": "view-in-github",
        "colab_type": "text"
      },
      "source": [
        "<a href=\"https://colab.research.google.com/github/1uch0/LLM_Udemy_course/blob/main/LLM_%2B_anomally_outliers_detection.ipynb\" target=\"_parent\"><img src=\"https://colab.research.google.com/assets/colab-badge.svg\" alt=\"Open In Colab\"/></a>"
      ]
    },
    {
      "cell_type": "code",
      "source": [
        "!pip install --upgrade openai"
      ],
      "metadata": {
        "colab": {
          "base_uri": "https://localhost:8080/"
        },
        "id": "WfozCz1Z1R4v",
        "outputId": "09dd8a66-6982-4f78-f846-02c3e90ebedd"
      },
      "execution_count": 4,
      "outputs": [
        {
          "output_type": "stream",
          "name": "stdout",
          "text": [
            "Requirement already satisfied: openai in /usr/local/lib/python3.11/dist-packages (1.61.1)\n",
            "Collecting openai\n",
            "  Downloading openai-1.66.2-py3-none-any.whl.metadata (25 kB)\n",
            "Requirement already satisfied: anyio<5,>=3.5.0 in /usr/local/lib/python3.11/dist-packages (from openai) (3.7.1)\n",
            "Requirement already satisfied: distro<2,>=1.7.0 in /usr/local/lib/python3.11/dist-packages (from openai) (1.9.0)\n",
            "Requirement already satisfied: httpx<1,>=0.23.0 in /usr/local/lib/python3.11/dist-packages (from openai) (0.28.1)\n",
            "Requirement already satisfied: jiter<1,>=0.4.0 in /usr/local/lib/python3.11/dist-packages (from openai) (0.8.2)\n",
            "Requirement already satisfied: pydantic<3,>=1.9.0 in /usr/local/lib/python3.11/dist-packages (from openai) (2.10.6)\n",
            "Requirement already satisfied: sniffio in /usr/local/lib/python3.11/dist-packages (from openai) (1.3.1)\n",
            "Requirement already satisfied: tqdm>4 in /usr/local/lib/python3.11/dist-packages (from openai) (4.67.1)\n",
            "Requirement already satisfied: typing-extensions<5,>=4.11 in /usr/local/lib/python3.11/dist-packages (from openai) (4.12.2)\n",
            "Requirement already satisfied: idna>=2.8 in /usr/local/lib/python3.11/dist-packages (from anyio<5,>=3.5.0->openai) (3.10)\n",
            "Requirement already satisfied: certifi in /usr/local/lib/python3.11/dist-packages (from httpx<1,>=0.23.0->openai) (2025.1.31)\n",
            "Requirement already satisfied: httpcore==1.* in /usr/local/lib/python3.11/dist-packages (from httpx<1,>=0.23.0->openai) (1.0.7)\n",
            "Requirement already satisfied: h11<0.15,>=0.13 in /usr/local/lib/python3.11/dist-packages (from httpcore==1.*->httpx<1,>=0.23.0->openai) (0.14.0)\n",
            "Requirement already satisfied: annotated-types>=0.6.0 in /usr/local/lib/python3.11/dist-packages (from pydantic<3,>=1.9.0->openai) (0.7.0)\n",
            "Requirement already satisfied: pydantic-core==2.27.2 in /usr/local/lib/python3.11/dist-packages (from pydantic<3,>=1.9.0->openai) (2.27.2)\n",
            "Downloading openai-1.66.2-py3-none-any.whl (567 kB)\n",
            "\u001b[2K   \u001b[90m━━━━━━━━━━━━━━━━━━━━━━━━━━━━━━━━━━━━━━━━\u001b[0m \u001b[32m567.3/567.3 kB\u001b[0m \u001b[31m10.3 MB/s\u001b[0m eta \u001b[36m0:00:00\u001b[0m\n",
            "\u001b[?25hInstalling collected packages: openai\n",
            "  Attempting uninstall: openai\n",
            "    Found existing installation: openai 1.61.1\n",
            "    Uninstalling openai-1.61.1:\n",
            "      Successfully uninstalled openai-1.61.1\n",
            "Successfully installed openai-1.66.2\n"
          ]
        }
      ]
    },
    {
      "cell_type": "code",
      "execution_count": 9,
      "metadata": {
        "colab": {
          "base_uri": "https://localhost:8080/"
        },
        "id": "3mh1BeUh0k0a",
        "outputId": "77b3584e-444b-47ba-f7f1-259acad6a0f4"
      },
      "outputs": [
        {
          "output_type": "stream",
          "name": "stdout",
          "text": [
            "Let's begin by analyzing the temperature data you provided: \n",
            "\n",
            "**Data Set:**\n",
            "\\[ [22.5, 23.1, 22.8, 24.5, 30.2, 22.9, 40.5, 23.0, 23.2, 41.0] \\]\n",
            "\n",
            "**Statistical Analysis:**\n",
            "1. **Average (Mean):** \n",
            "   \\[\n",
            "   \\text{Mean} = \\frac{\\sum \\text{temperature}}{\\text{number of points}} = \\frac{22.5 + 23.1 + 22.8 + 24.5 + 30.2 + 22.9 + 40.5 + 23.0 + 23.2 + 41.0}{10} = 25.67\n",
            "   \\]\n",
            "\n",
            "2. **Standard Deviation (SD):** \n",
            "   The SD provides insight into the variability of the data. Calculating SD can reveal how much the data deviates from the mean. Given the observed temperatures, the outliers can be apparent when we look further out from the mean:\n",
            "   1. Calculate variance,\n",
            "   2. Then take the square root to get standard deviation. \n",
            "\n",
            "3. **Outlier Detection:** \n",
            "   Commonly used methods for outlier detection include:\n",
            "   - **Tukey's Method:** Values exceeding \\( Q1 - 1.5 \\times \\text{IQR} \\) or \\( Q3 + 1.5 \\times \\text{IQR} \\) are typically considered outliers.\n",
            "   - In this case, values like 40.5 and 41.0 stand out as significant outliers compared to the rest, which cluster around a mean of 25.67.\n",
            "\n",
            "### Possible Causes of Outliers:\n",
            "1. **Temperature Sensor Malfunction:**\n",
            "   - It’s possible that the temperature sensors used to collect the data were malfunctioning or experiencing temporary errors.\n",
            "\n",
            "2. **External Factors:**\n",
            "   - Sudden changes in external conditions, such as a heatwave, could momentarily impact the machine's operating temperature.\n",
            "\n",
            "3. **Operational Conditions:**\n",
            "   - Unexpected operational scenarios, like overloading or mechanical failures, might cause the machine to operate outside of its normal temperature range. \n",
            "\n",
            "4. **Calibration Issues:**\n",
            "   - The sensors may not have been calibrated correctly, leading to inaccurate readings.\n",
            "\n",
            "### Suggested Actions:\n",
            "1. **Sensor Check:**\n",
            "   - Inspect and test the sensors for functionality and accuracy. Replace or recalibrate as needed.\n",
            "\n",
            "2. **Data Validation:**\n",
            "   - Reassess the data acquisition system to ensure it is properly recording and processing the temperature data without disruptions.\n",
            "\n",
            "3. **Review Operational Procedures:**\n",
            "   - Analyze the operating conditions during the periods when the outlier readings occurred. Review whether any unusual operations or maintenance tasks were being performed.\n",
            "\n",
            "4. **Investigation:**\n",
            "   - Conduct a deeper investigation into the conditions leading up to the outliers. This could involve looking at machine logs, maintenance records, or environmental changes.\n",
            "\n",
            "5. **Regular Monitoring:**\n",
            "   - Implement regular monitoring and routine checks on temperature data to identify trends or potential patterns in temperature fluctuations over time. \n",
            "\n",
            "By following these actions, you can better manage and mitigate the risks associated with temperature outliers and enhance the reliability of your machine's operations.\n"
          ]
        }
      ],
      "source": [
        "import openai\n",
        "import numpy as np\n",
        "from openai import OpenAI\n",
        "from google.colab import userdata\n",
        "from scipy import stats\n",
        "\n",
        "# OpenAI API Key (Replace with your own key)\n",
        "\n",
        "api_key = userdata.get('Open_AI_API') ##Open_AI_API It is the API key from OPEN_AI saved in your collab\n",
        "openai = OpenAI(api_key=api_key)\n",
        "\n",
        "\n",
        "\n",
        "# Generate a sample vector of temperatures (simulating sensor data)\n",
        "temperatures = np.array([22.5, 23.1, 22.8, 24.5, 30.2, 22.9, 40.5, 23.0, 23.2, 41.0])\n",
        "\n",
        "# Function to detect anomalies\n",
        "#def detect_anomalies(data, threshold=35):\n",
        "#    return [temp for temp in data if temp > threshold]\n",
        "\n",
        "# Detect outliers using Z-score (values beyond 3 standard deviations)\n",
        "z_scores = np.abs(stats.zscore(temperatures))\n",
        "outliers = temperatures[z_scores > 3]\n",
        "\n",
        "\n",
        "\n",
        "\n",
        "# Find anomalies\n",
        "#anomalous_values = detect_anomalies(temperatures)\n",
        "\n",
        "MODEL_GPT = 'gpt-4o-mini'\n",
        "\n",
        "# Prepare the prompt for ChatGPT\n",
        "prompt = f\"\"\"\n",
        "We have recorded temperature data from a machine: {temperatures.tolist()}.\n",
        "The system detected potential outliers based on statistical analysis.\n",
        "Can you analyze these data points and suggest possible causes and actions?\n",
        "\"\"\"\n",
        "\n",
        "# Query OpenAI's ChatGPT API\n",
        "response = openai.chat.completions.create(\n",
        "    model=MODEL_GPT,\n",
        "    messages=[\n",
        "        {\"role\": \"system\", \"content\": \"You are an industrial AI assistant.\"},\n",
        "        {\"role\": \"user\", \"content\": prompt}\n",
        "    ]\n",
        ")\n",
        "\n",
        "# Print ChatGPT's response\n",
        "print(response.choices[0].message.content)\n"
      ]
    },
    {
      "cell_type": "code",
      "source": [],
      "metadata": {
        "id": "-1PRN4Ep1Q1F"
      },
      "execution_count": null,
      "outputs": []
    },
    {
      "cell_type": "code",
      "source": [],
      "metadata": {
        "id": "sW4x-Iia0x4D"
      },
      "execution_count": null,
      "outputs": []
    }
  ]
}